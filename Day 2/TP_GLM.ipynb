{
 "cells": [
  {
   "cell_type": "markdown",
   "metadata": {},
   "source": [
    "<h1><center>Optimization in Generalized Linear Models </center></h1>\n"
   ]
  },
  {
   "cell_type": "markdown",
   "metadata": {},
   "source": [
    "This practical work aims to implement two popular machine learning methods:\n",
    "\n",
    "-   **Exercice 1:** The goal of this exercice is to implement and understand the gradient descent method for the linear regression model.\n",
    "\n",
    "-   **Exercice 2:** The goal of this exercice is to understand the logistic regression model, implement the corresponding gradient descent solution and compare it to the glm (library) solution.\n"
   ]
  },
  {
   "cell_type": "code",
   "execution_count": 1,
   "metadata": {},
   "outputs": [],
   "source": [
    "import pandas as pd\n",
    "import numpy as np\n",
    "\n",
    "data_regression = pd.read_csv(\"data/regression.csv\", sep=\";\")  # load the data\n",
    "data_classif = pd.read_csv(\"data/classification.csv\", sep=\";\")"
   ]
  },
  {
   "cell_type": "markdown",
   "metadata": {},
   "source": [
    "# Exercice 1. Linear regression\n"
   ]
  },
  {
   "cell_type": "markdown",
   "metadata": {},
   "source": [
    "Denote by D=$(x_i,y_i)_{1 \\leq i \\leq n}$ the set of $n$ samples (training sample). Let Y be the vector with coordinates $y_i$ and $X$ the matrix of size $n \\times d$ with rows $x_i$.\n"
   ]
  },
  {
   "cell_type": "markdown",
   "metadata": {},
   "source": [
    "1. Create two objects $(X,Y)$, knowing that the first column of the i-th row corresponds to $y_i$. The other columns correspond to $x_i$.\n"
   ]
  },
  {
   "cell_type": "code",
   "execution_count": 2,
   "metadata": {},
   "outputs": [],
   "source": [
    "X, y = data_regression.iloc[:, 1:], data_regression.iloc[:, 0]"
   ]
  },
  {
   "cell_type": "markdown",
   "metadata": {},
   "source": [
    "2. Show that the least squares solution is given by:\n",
    "\n",
    "$$\\widehat{\\beta}=(X^{\\top}X)^{-1}X^\\top Y$$\n"
   ]
  },
  {
   "cell_type": "markdown",
   "metadata": {},
   "source": [
    "-   Add a column of 1 to take into account the: ''intercept'' $\\beta_0$\n"
   ]
  },
  {
   "cell_type": "code",
   "execution_count": 3,
   "metadata": {},
   "outputs": [],
   "source": [
    "X[\"intercept\"] = 1"
   ]
  },
  {
   "cell_type": "code",
   "execution_count": 4,
   "metadata": {},
   "outputs": [
    {
     "data": {
      "text/html": [
       "<div>\n",
       "<style scoped>\n",
       "    .dataframe tbody tr th:only-of-type {\n",
       "        vertical-align: middle;\n",
       "    }\n",
       "\n",
       "    .dataframe tbody tr th {\n",
       "        vertical-align: top;\n",
       "    }\n",
       "\n",
       "    .dataframe thead th {\n",
       "        text-align: right;\n",
       "    }\n",
       "</style>\n",
       "<table border=\"1\" class=\"dataframe\">\n",
       "  <thead>\n",
       "    <tr style=\"text-align: right;\">\n",
       "      <th></th>\n",
       "      <th>V2</th>\n",
       "      <th>V3</th>\n",
       "      <th>V4</th>\n",
       "      <th>V5</th>\n",
       "      <th>V6</th>\n",
       "      <th>V7</th>\n",
       "      <th>V8</th>\n",
       "      <th>V9</th>\n",
       "      <th>V10</th>\n",
       "      <th>V11</th>\n",
       "      <th>intercept</th>\n",
       "    </tr>\n",
       "  </thead>\n",
       "  <tbody>\n",
       "    <tr>\n",
       "      <th>0</th>\n",
       "      <td>1.028992</td>\n",
       "      <td>0.622963</td>\n",
       "      <td>0.278925</td>\n",
       "      <td>-0.405870</td>\n",
       "      <td>0.958563</td>\n",
       "      <td>-1.133672</td>\n",
       "      <td>-0.563239</td>\n",
       "      <td>1.096962</td>\n",
       "      <td>0.420335</td>\n",
       "      <td>0.911695</td>\n",
       "      <td>1</td>\n",
       "    </tr>\n",
       "    <tr>\n",
       "      <th>1</th>\n",
       "      <td>0.604380</td>\n",
       "      <td>1.639447</td>\n",
       "      <td>1.121144</td>\n",
       "      <td>-0.012976</td>\n",
       "      <td>-0.000129</td>\n",
       "      <td>1.603966</td>\n",
       "      <td>-0.074142</td>\n",
       "      <td>-1.036641</td>\n",
       "      <td>-0.451208</td>\n",
       "      <td>-0.225835</td>\n",
       "      <td>1</td>\n",
       "    </tr>\n",
       "    <tr>\n",
       "      <th>2</th>\n",
       "      <td>-0.634519</td>\n",
       "      <td>0.093021</td>\n",
       "      <td>0.328398</td>\n",
       "      <td>-1.333980</td>\n",
       "      <td>-0.419870</td>\n",
       "      <td>-0.094647</td>\n",
       "      <td>-2.369584</td>\n",
       "      <td>0.859509</td>\n",
       "      <td>-0.310185</td>\n",
       "      <td>-0.101982</td>\n",
       "      <td>1</td>\n",
       "    </tr>\n",
       "    <tr>\n",
       "      <th>3</th>\n",
       "      <td>0.383733</td>\n",
       "      <td>-1.258306</td>\n",
       "      <td>0.955069</td>\n",
       "      <td>-0.094585</td>\n",
       "      <td>-0.337204</td>\n",
       "      <td>2.054539</td>\n",
       "      <td>-1.423585</td>\n",
       "      <td>1.220261</td>\n",
       "      <td>0.186976</td>\n",
       "      <td>-0.763621</td>\n",
       "      <td>1</td>\n",
       "    </tr>\n",
       "    <tr>\n",
       "      <th>4</th>\n",
       "      <td>0.770505</td>\n",
       "      <td>-0.464247</td>\n",
       "      <td>0.066713</td>\n",
       "      <td>1.035105</td>\n",
       "      <td>1.780473</td>\n",
       "      <td>0.563849</td>\n",
       "      <td>0.519628</td>\n",
       "      <td>0.594002</td>\n",
       "      <td>-0.948932</td>\n",
       "      <td>0.258373</td>\n",
       "      <td>1</td>\n",
       "    </tr>\n",
       "  </tbody>\n",
       "</table>\n",
       "</div>"
      ],
      "text/plain": [
       "         V2        V3        V4        V5        V6        V7        V8  \\\n",
       "0  1.028992  0.622963  0.278925 -0.405870  0.958563 -1.133672 -0.563239   \n",
       "1  0.604380  1.639447  1.121144 -0.012976 -0.000129  1.603966 -0.074142   \n",
       "2 -0.634519  0.093021  0.328398 -1.333980 -0.419870 -0.094647 -2.369584   \n",
       "3  0.383733 -1.258306  0.955069 -0.094585 -0.337204  2.054539 -1.423585   \n",
       "4  0.770505 -0.464247  0.066713  1.035105  1.780473  0.563849  0.519628   \n",
       "\n",
       "         V9       V10       V11  intercept  \n",
       "0  1.096962  0.420335  0.911695          1  \n",
       "1 -1.036641 -0.451208 -0.225835          1  \n",
       "2  0.859509 -0.310185 -0.101982          1  \n",
       "3  1.220261  0.186976 -0.763621          1  \n",
       "4  0.594002 -0.948932  0.258373          1  "
      ]
     },
     "execution_count": 4,
     "metadata": {},
     "output_type": "execute_result"
    }
   ],
   "source": [
    "X.head(5)"
   ]
  },
  {
   "cell_type": "markdown",
   "metadata": {},
   "source": [
    "-   Compute $\\widehat{\\beta}$\n"
   ]
  },
  {
   "cell_type": "code",
   "execution_count": 5,
   "metadata": {},
   "outputs": [],
   "source": [
    "beta_opt = np.linalg.inv(X.T @ X) @ (X.T @ y)  # @ is equivalent to 'np.dot'"
   ]
  },
  {
   "cell_type": "code",
   "execution_count": 6,
   "metadata": {},
   "outputs": [
    {
     "name": "stdout",
     "output_type": "stream",
     "text": [
      "[ 0.95803718  2.04479784  3.06512498  3.81918261  5.10627556  6.05860667\n",
      "  6.84191879  8.00113116  8.97700084 10.15585877  0.96002885]\n"
     ]
    }
   ],
   "source": [
    "print(beta_opt)"
   ]
  },
  {
   "cell_type": "code",
   "execution_count": 7,
   "metadata": {},
   "outputs": [
    {
     "name": "stdout",
     "output_type": "stream",
     "text": [
      "[ 0.95803718  2.04479784  3.06512498  3.81918261  5.10627556  6.05860667\n",
      "  6.84191879  8.00113116  8.97700084 10.15585877  0.96002885]\n"
     ]
    }
   ],
   "source": [
    "from sklearn.linear_model import LinearRegression\n",
    "\n",
    "model = LinearRegression().fit(X.drop(columns=[\"intercept\"]), y)\n",
    "print(np.append(model.coef_, model.intercept_))"
   ]
  },
  {
   "cell_type": "markdown",
   "metadata": {},
   "source": [
    "4.Write the gradient of the function $f$ : $\\beta \\in \\mathbb{R} \\mapsto \\vert \\vert Y − X\\beta \\vert \\vert ^2$\n"
   ]
  },
  {
   "cell_type": "code",
   "execution_count": 8,
   "metadata": {},
   "outputs": [],
   "source": [
    "def f_obj(beta):\n",
    "    residuals = y - X @ beta\n",
    "    obj = np.sum(residuals**2)  # alternative: np.linalg.norm(residuals ** 2)\n",
    "    return obj\n",
    "\n",
    "\n",
    "def gradient_f(beta):\n",
    "    grad = -X.T @ (y - X @ beta)\n",
    "    return grad"
   ]
  },
  {
   "cell_type": "markdown",
   "metadata": {},
   "source": [
    "5.Implement the gradient descent method and plot the curve corresponding to $t \\mapsto ∥\\beta_t − \\widehat{\\beta}∥^2$, where $\\beta_t$ represents the iteration number $t$ for gradient descent given $\\beta_0$ and a stepsize.\n"
   ]
  },
  {
   "cell_type": "markdown",
   "metadata": {},
   "source": [
    "-   Definition of the gradient descent function:\n"
   ]
  },
  {
   "cell_type": "code",
   "execution_count": 9,
   "metadata": {},
   "outputs": [],
   "source": [
    "def gradient_descent(n_iter, beta0, step):\n",
    "    beta_old = beta0\n",
    "    objectives = []\n",
    "    errors = []\n",
    "    print(\"i \", \" | \", \"obj      \", \" | \", \"err\")\n",
    "    print(\"\\n\")\n",
    "    for i in range(1, n_iter):\n",
    "        # insert the gradient descent formula\n",
    "        beta_new = beta_old - step * gradient_f(beta_old)\n",
    "        obj = f_obj(beta_new)\n",
    "        # err = TODO\n",
    "        err = np.linalg.norm(beta_new - beta_opt) ** 2\n",
    "        beta_old = beta_new\n",
    "        errors.append(err)\n",
    "        objectives.append(obj)\n",
    "        if i % 10 == 0:\n",
    "            print(i, \"  |  \", objectives[-1], \"  |  \", errors[-1])\n",
    "            print(\"\\n\")\n",
    "        beta_old = beta_new\n",
    "    return (beta_new, errors, objectives)"
   ]
  },
  {
   "cell_type": "markdown",
   "metadata": {},
   "source": [
    "_N.B : We can think of a different stopping rule to replace the loop on n_iterations._\n"
   ]
  },
  {
   "cell_type": "markdown",
   "metadata": {},
   "source": [
    "-   Compute the optimal least squares solution:\n"
   ]
  },
  {
   "cell_type": "code",
   "execution_count": 10,
   "metadata": {},
   "outputs": [
    {
     "name": "stdout",
     "output_type": "stream",
     "text": [
      "i   |  obj        |  err\n",
      "\n",
      "\n",
      "10   |   4612.895958822942   |   61.0361917426361\n",
      "\n",
      "\n",
      "20   |   1016.4627570906611   |   15.042495558748527\n",
      "\n",
      "\n",
      "30   |   329.92509643872137   |   4.342576218696461\n",
      "\n",
      "\n",
      "40   |   151.54340105476155   |   1.333814911196925\n",
      "\n",
      "\n",
      "50   |   99.74190559507421   |   0.4250737745833776\n",
      "\n",
      "\n",
      "60   |   83.91084200092013   |   0.13940515588768423\n",
      "\n",
      "\n",
      "70   |   78.90116928074734   |   0.04682090074665288\n",
      "\n",
      "\n",
      "80   |   77.26948957943362   |   0.016037084450139957\n",
      "\n",
      "\n",
      "90   |   76.72477576514713   |   0.005580261722967269\n",
      "\n",
      "\n"
     ]
    }
   ],
   "source": [
    "n_iter = 100\n",
    "result = gradient_descent(n_iter, beta0=np.zeros(X.shape[1]), step=0.001)"
   ]
  },
  {
   "cell_type": "markdown",
   "metadata": {},
   "source": [
    "-   Draw the curve of errors:\n"
   ]
  },
  {
   "cell_type": "code",
   "execution_count": 11,
   "metadata": {},
   "outputs": [
    {
     "data": {
      "text/plain": [
       "Text(0, 0.5, 'error with respect to the optimum')"
      ]
     },
     "execution_count": 11,
     "metadata": {},
     "output_type": "execute_result"
    },
    {
     "data": {
      "text/plain": [
       "<Figure size 500x500 with 0 Axes>"
      ]
     },
     "metadata": {},
     "output_type": "display_data"
    },
    {
     "data": {
      "image/png": "[encoded data removed]",
      "text/plain": [
       "<Figure size 1500x500 with 2 Axes>"
      ]
     },
     "metadata": {},
     "output_type": "display_data"
    }
   ],
   "source": [
    "import matplotlib.pylab as plt\n",
    "\n",
    "fig1 = plt.figure(figsize=(5, 5))\n",
    "fig, ax = plt.subplots(1, 2, figsize=(15, 5))\n",
    "ax[0].plot(result[1])\n",
    "ax[1].plot(result[2])\n",
    "plt.title(\"Error evolution\")\n",
    "ax[0].set_xlabel(\"Iterations of gradient descent\")\n",
    "ax[1].set_xlabel(\"Iterations of gradient descent\")\n",
    "plt.ylabel(\"error with respect to the optimum\")"
   ]
  },
  {
   "cell_type": "code",
   "execution_count": null,
   "metadata": {},
   "outputs": [],
   "source": []
  },
  {
   "cell_type": "markdown",
   "metadata": {},
   "source": [
    "# Exercice 2 : Logistic regression\n"
   ]
  },
  {
   "cell_type": "markdown",
   "metadata": {},
   "source": [
    "1.Define $X$ and $y$ based on the dataframe data_classif:\n"
   ]
  },
  {
   "cell_type": "code",
   "execution_count": 59,
   "metadata": {
    "scrolled": true
   },
   "outputs": [
    {
     "data": {
      "text/html": [
       "<div>\n",
       "<style scoped>\n",
       "    .dataframe tbody tr th:only-of-type {\n",
       "        vertical-align: middle;\n",
       "    }\n",
       "\n",
       "    .dataframe tbody tr th {\n",
       "        vertical-align: top;\n",
       "    }\n",
       "\n",
       "    .dataframe thead th {\n",
       "        text-align: right;\n",
       "    }\n",
       "</style>\n",
       "<table border=\"1\" class=\"dataframe\">\n",
       "  <thead>\n",
       "    <tr style=\"text-align: right;\">\n",
       "      <th></th>\n",
       "      <th>Y</th>\n",
       "      <th>Unnamed: 1</th>\n",
       "      <th>Unnamed: 2</th>\n",
       "      <th>Unnamed: 3</th>\n",
       "      <th>Unnamed: 4</th>\n",
       "      <th>Unnamed: 5</th>\n",
       "      <th>Unnamed: 6</th>\n",
       "      <th>Unnamed: 7</th>\n",
       "      <th>Unnamed: 8</th>\n",
       "      <th>Unnamed: 9</th>\n",
       "      <th>Unnamed: 10</th>\n",
       "    </tr>\n",
       "  </thead>\n",
       "  <tbody>\n",
       "    <tr>\n",
       "      <th>0</th>\n",
       "      <td>0</td>\n",
       "      <td>-0.975348</td>\n",
       "      <td>1.026274</td>\n",
       "      <td>-1.789708</td>\n",
       "      <td>0.632264</td>\n",
       "      <td>0.696836</td>\n",
       "      <td>-1.460567</td>\n",
       "      <td>-0.056910</td>\n",
       "      <td>2.016188</td>\n",
       "      <td>-0.236022</td>\n",
       "      <td>0.966914</td>\n",
       "    </tr>\n",
       "    <tr>\n",
       "      <th>1</th>\n",
       "      <td>0</td>\n",
       "      <td>0.863402</td>\n",
       "      <td>1.293269</td>\n",
       "      <td>-0.487214</td>\n",
       "      <td>0.614807</td>\n",
       "      <td>-1.051546</td>\n",
       "      <td>-1.273851</td>\n",
       "      <td>-1.467305</td>\n",
       "      <td>1.388982</td>\n",
       "      <td>1.457754</td>\n",
       "      <td>-0.716669</td>\n",
       "    </tr>\n",
       "    <tr>\n",
       "      <th>2</th>\n",
       "      <td>0</td>\n",
       "      <td>-0.712547</td>\n",
       "      <td>1.203891</td>\n",
       "      <td>0.353590</td>\n",
       "      <td>-0.385416</td>\n",
       "      <td>-0.413320</td>\n",
       "      <td>0.167995</td>\n",
       "      <td>-0.402048</td>\n",
       "      <td>-0.234347</td>\n",
       "      <td>0.293442</td>\n",
       "      <td>0.471140</td>\n",
       "    </tr>\n",
       "  </tbody>\n",
       "</table>\n",
       "</div>"
      ],
      "text/plain": [
       "   Y  Unnamed: 1  Unnamed: 2  Unnamed: 3  Unnamed: 4  Unnamed: 5  Unnamed: 6  \\\n",
       "0  0   -0.975348    1.026274   -1.789708    0.632264    0.696836   -1.460567   \n",
       "1  0    0.863402    1.293269   -0.487214    0.614807   -1.051546   -1.273851   \n",
       "2  0   -0.712547    1.203891    0.353590   -0.385416   -0.413320    0.167995   \n",
       "\n",
       "   Unnamed: 7  Unnamed: 8  Unnamed: 9  Unnamed: 10  \n",
       "0   -0.056910    2.016188   -0.236022     0.966914  \n",
       "1   -1.467305    1.388982    1.457754    -0.716669  \n",
       "2   -0.402048   -0.234347    0.293442     0.471140  "
      ]
     },
     "execution_count": 59,
     "metadata": {},
     "output_type": "execute_result"
    }
   ],
   "source": [
    "data_classif.head(3)"
   ]
  },
  {
   "cell_type": "code",
   "execution_count": 80,
   "metadata": {},
   "outputs": [],
   "source": [
    "X, y = data_classif.iloc[:, 1:], data_classif[\"Y\"]"
   ]
  },
  {
   "cell_type": "code",
   "execution_count": 81,
   "metadata": {},
   "outputs": [
    {
     "data": {
      "text/plain": [
       "(1000, 10)"
      ]
     },
     "execution_count": 81,
     "metadata": {},
     "output_type": "execute_result"
    }
   ],
   "source": [
    "X.shape"
   ]
  },
  {
   "cell_type": "markdown",
   "metadata": {},
   "source": [
    "2. We recall that the logistic regression minimization problem is given by:\n",
    "\n",
    "$$ \\min*{\\beta} f(\\beta) = \\sum*{i=1}^{n}\\left[y_i\\log\\left(1+ \\exp^{-\\langle x_i, \\beta \\rangle}\\right) + (1-y_i)\\log\\left(1+\\exp^{ \\langle x_i, \\beta \\rangle }\\right)\\right]$$\n",
    "where\n",
    "$$ p_i = \\frac{1}{1+ \\exp^{-\\langle x_i, \\beta \\rangle}} = \\mathbb{P}(y_i = 1 | \\langle x_i,\\beta\\rangle) $$\n"
   ]
  },
  {
   "cell_type": "markdown",
   "metadata": {},
   "source": [
    "2.1. Define the objective function at point $\\beta$ with respect to X,y:\n"
   ]
  },
  {
   "cell_type": "code",
   "execution_count": 85,
   "metadata": {
    "collapsed": true
   },
   "outputs": [],
   "source": [
    "def compute_obj_logistic(X, y, beta):\n",
    "    obj = 0\n",
    "    for i in range(len(X)):\n",
    "        # define the value of the sum at row i :\n",
    "        prod = X[i] @ beta\n",
    "        h = y[i] * np.log(1 + np.exp(-prod)) + (1 - y[i]) * np.log(1 + np.exp(prod))\n",
    "        obj += h\n",
    "\n",
    "    return obj"
   ]
  },
  {
   "cell_type": "code",
   "execution_count": 90,
   "metadata": {},
   "outputs": [],
   "source": [
    "def compute_obj_fast_logistic(X, y, beta):\n",
    "    prod = X @ beta\n",
    "    obj = y * np.log(1 + np.exp(-prod)) + (1 - y) * np.log(1 + np.exp(prod))\n",
    "    return np.sum(obj)"
   ]
  },
  {
   "cell_type": "markdown",
   "metadata": {},
   "source": [
    "2.2. Define the gradient of the objective function as a function of $\\beta$\n"
   ]
  },
  {
   "cell_type": "code",
   "execution_count": 92,
   "metadata": {
    "collapsed": true
   },
   "outputs": [],
   "source": [
    "def compute_grad_logistic(X, y, beta):\n",
    "    prod = X @ beta\n",
    "    prob = 1 / (1 + np.exp(-prod))  # Sigmoid function\n",
    "    grad = X.T @ (y - prob)  # Vectorized computation of the gradient\n",
    "    return grad"
   ]
  },
  {
   "cell_type": "code",
   "execution_count": 93,
   "metadata": {},
   "outputs": [
    {
     "data": {
      "text/plain": [
       "338.08325571981925"
      ]
     },
     "execution_count": 93,
     "metadata": {},
     "output_type": "execute_result"
    }
   ],
   "source": [
    "compute_obj_fast_logistic(np.array(X), np.array(y), np.ones(X.shape[1]))"
   ]
  },
  {
   "cell_type": "markdown",
   "metadata": {},
   "source": [
    "2.3. Define the gradient descent function :\n"
   ]
  },
  {
   "cell_type": "code",
   "execution_count": 94,
   "metadata": {},
   "outputs": [],
   "source": [
    "def gradient_descent_log(n_iter, X, y, beta0, step):\n",
    "    beta_old = beta0\n",
    "    objectives = []\n",
    "    print(\"i \", \" | \", \"obj\")\n",
    "    print(\"\\n\")\n",
    "    for i in range(1, n_iter):\n",
    "        # TODO : add the gradient descent iteration\n",
    "        beta_new = beta_old - step * compute_grad_logistic(X, y, beta_old)\n",
    "        obj = compute_obj_fast_logistic(X, y, beta_new)\n",
    "        objectives.append(obj)\n",
    "        if i % 10 == 0:\n",
    "            print(i, \"  |  \", obj)\n",
    "        beta_old = beta_new\n",
    "    return beta_new, objectives"
   ]
  },
  {
   "cell_type": "code",
   "execution_count": 98,
   "metadata": {},
   "outputs": [
    {
     "name": "stdout",
     "output_type": "stream",
     "text": [
      "i   |  obj\n",
      "\n",
      "\n",
      "10   |   354.13198206773393\n",
      "20   |   355.38770888231954\n",
      "30   |   356.7687224007859\n",
      "40   |   358.2908729016573\n",
      "50   |   359.9721954303951\n",
      "60   |   361.8332274162681\n",
      "70   |   363.8973707241946\n",
      "80   |   366.1913014920956\n",
      "90   |   368.74543016701136\n",
      "100   |   371.59441319971074\n",
      "110   |   374.777717494662\n",
      "120   |   378.3402399437613\n",
      "130   |   382.3329884776318\n",
      "140   |   386.8138391372207\n",
      "150   |   391.848395720338\n",
      "160   |   397.5109924737835\n",
      "170   |   403.88589124398743\n",
      "180   |   411.06872577766177\n",
      "190   |   419.1682318608825\n",
      "200   |   428.3082725859096\n",
      "210   |   438.63013243428907\n",
      "220   |   450.29503027955195\n",
      "230   |   463.4868094884781\n",
      "240   |   478.4148114127938\n",
      "250   |   495.317020276029\n",
      "260   |   514.4636806694716\n",
      "270   |   536.1617400052237\n",
      "280   |   560.7605576392843\n",
      "290   |   588.6588956197412\n",
      "300   |   620.311371365285\n",
      "310   |   656.2287945980413\n",
      "320   |   696.9637346935234\n",
      "330   |   743.0782155505966\n",
      "340   |   795.1071098341138\n",
      "350   |   853.5376262482221\n",
      "360   |   918.8096654707454\n",
      "370   |   991.3331385222323\n",
      "380   |   1071.5089058329404\n",
      "390   |   1159.729736841124\n"
     ]
    }
   ],
   "source": [
    "beta_logistic_opt, _ = gradient_descent_log(\n",
    "    400,\n",
    "    np.array(X),\n",
    "    np.array(y),\n",
    "    np.ones(X.shape[1]),\n",
    "    step=0.0001,\n",
    ")"
   ]
  },
  {
   "cell_type": "code",
   "execution_count": 78,
   "metadata": {},
   "outputs": [
    {
     "data": {
      "text/plain": [
       "array([-3.07014561, -6.55976195, -1.5840037 , -4.32652616,  2.90812401,\n",
       "       -2.52847978, -8.1281816 , -2.00008307, -6.53013504, -5.67310549])"
      ]
     },
     "execution_count": 78,
     "metadata": {},
     "output_type": "execute_result"
    }
   ],
   "source": [
    "beta_logistic_opt"
   ]
  },
  {
   "cell_type": "markdown",
   "metadata": {},
   "source": [
    "3.Comparison with scikit-learn:\n"
   ]
  },
  {
   "cell_type": "markdown",
   "metadata": {},
   "source": [
    "-   Define the two vectors beta_glm and beta_log then compute the mean squared error “mse” between the two vectors\n"
   ]
  },
  {
   "cell_type": "code",
   "execution_count": 79,
   "metadata": {
    "collapsed": true
   },
   "outputs": [
    {
     "data": {
      "text/plain": [
       "array([[1.03420187, 1.02429452, 1.02672634, 1.09042993, 0.84717787,\n",
       "        0.94125618, 1.13636674, 0.89765396, 1.097285  , 1.07618093]])"
      ]
     },
     "execution_count": 79,
     "metadata": {},
     "output_type": "execute_result"
    }
   ],
   "source": [
    "from sklearn.linear_model import LogisticRegression\n",
    "\n",
    "model = LogisticRegression(penalty=None, fit_intercept=False, max_iter=400)\n",
    "model.fit(X, y)\n",
    "\n",
    "beta = model.coef_\n",
    "beta"
   ]
  },
  {
   "cell_type": "code",
   "execution_count": 54,
   "metadata": {},
   "outputs": [
    {
     "data": {
      "text/plain": [
       "9.098370450019702"
      ]
     },
     "execution_count": 54,
     "metadata": {},
     "output_type": "execute_result"
    }
   ],
   "source": [
    "# Compute the MSE between the two vectors\n",
    "np.linalg.norm([beta.ravel(), beta_logistic_opt])"
   ]
  },
  {
   "cell_type": "code",
   "execution_count": null,
   "metadata": {},
   "outputs": [],
   "source": []
  }
 ],
 "metadata": {
  "anaconda-cloud": {},
  "kernelspec": {
   "display_name": "ml_env",
   "language": "python",
   "name": "python3"
  },
  "language_info": {
   "codemirror_mode": {
    "name": "ipython",
    "version": 3
   },
   "file_extension": ".py",
   "mimetype": "text/x-python",
   "name": "python",
   "nbconvert_exporter": "python",
   "pygments_lexer": "ipython3",
   "version": "3.11.5"
  }
 },
 "nbformat": 4,
 "nbformat_minor": 2
}
