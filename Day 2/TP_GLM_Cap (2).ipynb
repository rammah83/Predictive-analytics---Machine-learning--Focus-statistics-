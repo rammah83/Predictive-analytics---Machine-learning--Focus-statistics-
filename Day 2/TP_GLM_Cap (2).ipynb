{
 "cells": [
  {
   "cell_type": "markdown",
   "metadata": {},
   "source": [
    "# <font color=darkred> IDSS31165</font>"
   ]
  },
  {
   "cell_type": "markdown",
   "metadata": {},
   "source": [
    "<h1><center>Optimization in Generalized Linear Models </center></h1>"
   ]
  },
  {
   "cell_type": "markdown",
   "metadata": {},
   "source": [
    "This practical work aims to implement two popular machine learning methods:\n",
    "\n",
    "- **Exercice 1:** The goal of this exercice is to implement and understand the gradient descent method for the linear regression model.\n",
    "\n",
    "\n",
    "- **Exercice 2:** The goal of this exercice is to understand the logistic regression model, implement the corresponding gradient descent solution and compare it to the glm (library) solution.\n",
    "\n"
   ]
  },
  {
   "cell_type": "code",
   "execution_count": 2,
   "metadata": {},
   "outputs": [],
   "source": [
    "import pandas as pd \n",
    "data_regression =pd.read_csv(\"regression.csv\",  sep=';') # load the data\n",
    "#data_classif = pd.read_csv(\"classification.csv\", sep=\";\")"
   ]
  },
  {
   "cell_type": "code",
   "execution_count": 3,
   "metadata": {},
   "outputs": [
    {
     "data": {
      "text/html": [
       "<div>\n",
       "<style scoped>\n",
       "    .dataframe tbody tr th:only-of-type {\n",
       "        vertical-align: middle;\n",
       "    }\n",
       "\n",
       "    .dataframe tbody tr th {\n",
       "        vertical-align: top;\n",
       "    }\n",
       "\n",
       "    .dataframe thead th {\n",
       "        text-align: right;\n",
       "    }\n",
       "</style>\n",
       "<table border=\"1\" class=\"dataframe\">\n",
       "  <thead>\n",
       "    <tr style=\"text-align: right;\">\n",
       "      <th></th>\n",
       "      <th>MarketingBudget</th>\n",
       "      <th>ProductPrice</th>\n",
       "      <th>PointsOfSale</th>\n",
       "      <th>LaunchMonth</th>\n",
       "      <th>CompetitionLevel</th>\n",
       "      <th>Sales</th>\n",
       "    </tr>\n",
       "  </thead>\n",
       "  <tbody>\n",
       "    <tr>\n",
       "      <th>0</th>\n",
       "      <td>20795</td>\n",
       "      <td>17</td>\n",
       "      <td>19</td>\n",
       "      <td>4</td>\n",
       "      <td>3</td>\n",
       "      <td>343</td>\n",
       "    </tr>\n",
       "    <tr>\n",
       "      <th>1</th>\n",
       "      <td>5860</td>\n",
       "      <td>44</td>\n",
       "      <td>2</td>\n",
       "      <td>8</td>\n",
       "      <td>2</td>\n",
       "      <td>169</td>\n",
       "    </tr>\n",
       "    <tr>\n",
       "      <th>2</th>\n",
       "      <td>43158</td>\n",
       "      <td>44</td>\n",
       "      <td>53</td>\n",
       "      <td>8</td>\n",
       "      <td>1</td>\n",
       "      <td>1305</td>\n",
       "    </tr>\n",
       "    <tr>\n",
       "      <th>3</th>\n",
       "      <td>49732</td>\n",
       "      <td>42</td>\n",
       "      <td>44</td>\n",
       "      <td>7</td>\n",
       "      <td>2</td>\n",
       "      <td>1066</td>\n",
       "    </tr>\n",
       "    <tr>\n",
       "      <th>4</th>\n",
       "      <td>16284</td>\n",
       "      <td>14</td>\n",
       "      <td>90</td>\n",
       "      <td>3</td>\n",
       "      <td>2</td>\n",
       "      <td>1304</td>\n",
       "    </tr>\n",
       "  </tbody>\n",
       "</table>\n",
       "</div>"
      ],
      "text/plain": [
       "   MarketingBudget  ProductPrice  PointsOfSale  LaunchMonth  CompetitionLevel  \\\n",
       "0            20795            17            19            4                 3   \n",
       "1             5860            44             2            8                 2   \n",
       "2            43158            44            53            8                 1   \n",
       "3            49732            42            44            7                 2   \n",
       "4            16284            14            90            3                 2   \n",
       "\n",
       "   Sales  \n",
       "0    343  \n",
       "1    169  \n",
       "2   1305  \n",
       "3   1066  \n",
       "4   1304  "
      ]
     },
     "execution_count": 3,
     "metadata": {},
     "output_type": "execute_result"
    }
   ],
   "source": [
    "#Sales dataset \n",
    "data_sales = pd.read_csv(\"Sales_Prediction_Dataset.csv\", sep=\",\")\n",
    "data_sales.head(5)"
   ]
  },
  {
   "cell_type": "code",
   "execution_count": 4,
   "metadata": {},
   "outputs": [
    {
     "data": {
      "text/html": [
       "<div>\n",
       "<style scoped>\n",
       "    .dataframe tbody tr th:only-of-type {\n",
       "        vertical-align: middle;\n",
       "    }\n",
       "\n",
       "    .dataframe tbody tr th {\n",
       "        vertical-align: top;\n",
       "    }\n",
       "\n",
       "    .dataframe thead th {\n",
       "        text-align: right;\n",
       "    }\n",
       "</style>\n",
       "<table border=\"1\" class=\"dataframe\">\n",
       "  <thead>\n",
       "    <tr style=\"text-align: right;\">\n",
       "      <th></th>\n",
       "      <th>YearsExperience</th>\n",
       "      <th>EducationLevel</th>\n",
       "      <th>Age</th>\n",
       "      <th>City</th>\n",
       "      <th>JobLevel</th>\n",
       "      <th>Salary</th>\n",
       "    </tr>\n",
       "  </thead>\n",
       "  <tbody>\n",
       "    <tr>\n",
       "      <th>0</th>\n",
       "      <td>7</td>\n",
       "      <td>3</td>\n",
       "      <td>53</td>\n",
       "      <td>4</td>\n",
       "      <td>2</td>\n",
       "      <td>47921</td>\n",
       "    </tr>\n",
       "    <tr>\n",
       "      <th>1</th>\n",
       "      <td>20</td>\n",
       "      <td>4</td>\n",
       "      <td>45</td>\n",
       "      <td>1</td>\n",
       "      <td>2</td>\n",
       "      <td>80032</td>\n",
       "    </tr>\n",
       "    <tr>\n",
       "      <th>2</th>\n",
       "      <td>15</td>\n",
       "      <td>4</td>\n",
       "      <td>62</td>\n",
       "      <td>4</td>\n",
       "      <td>2</td>\n",
       "      <td>71657</td>\n",
       "    </tr>\n",
       "    <tr>\n",
       "      <th>3</th>\n",
       "      <td>11</td>\n",
       "      <td>2</td>\n",
       "      <td>33</td>\n",
       "      <td>1</td>\n",
       "      <td>1</td>\n",
       "      <td>42636</td>\n",
       "    </tr>\n",
       "    <tr>\n",
       "      <th>4</th>\n",
       "      <td>8</td>\n",
       "      <td>3</td>\n",
       "      <td>60</td>\n",
       "      <td>2</td>\n",
       "      <td>4</td>\n",
       "      <td>69982</td>\n",
       "    </tr>\n",
       "  </tbody>\n",
       "</table>\n",
       "</div>"
      ],
      "text/plain": [
       "   YearsExperience  EducationLevel  Age  City  JobLevel  Salary\n",
       "0                7               3   53     4         2   47921\n",
       "1               20               4   45     1         2   80032\n",
       "2               15               4   62     4         2   71657\n",
       "3               11               2   33     1         1   42636\n",
       "4                8               3   60     2         4   69982"
      ]
     },
     "execution_count": 4,
     "metadata": {},
     "output_type": "execute_result"
    }
   ],
   "source": [
    "#Revenue dataset\n",
    "data_salary = pd.read_csv(\"Salary_Prediction_Dataset.csv\", sep=\",\")\n",
    "data_salary.head(5)\n"
   ]
  },
  {
   "cell_type": "markdown",
   "metadata": {},
   "source": [
    "# Exercice 1. Linear regression"
   ]
  },
  {
   "cell_type": "markdown",
   "metadata": {},
   "source": [
    "Denote by D=$(x_i,y_i)_{1 \\leq i \\leq n}$ the set of $n$ samples (training sample). Let Y be the vector with coordinates $y_i$ and $X$ the matrix of size $n \\times d$ with rows $x_i$."
   ]
  },
  {
   "cell_type": "markdown",
   "metadata": {},
   "source": [
    "1. Create two objects $(X,Y)$, knowing that the first column of the i-th row  corresponds to $y_i$. The other columns correspond to $x_i$."
   ]
  },
  {
   "cell_type": "code",
   "execution_count": 5,
   "metadata": {},
   "outputs": [],
   "source": [
    "#Initial Exercice \n",
    "X, Y = data_regression.iloc[:,1:], data_regression.iloc[:,0]\n"
   ]
  },
  {
   "cell_type": "code",
   "execution_count": 25,
   "metadata": {},
   "outputs": [],
   "source": [
    "#Sales dataset\n",
    "X, Y = data_sales.iloc[:, :-1], data_sales.iloc[:, -1]\n",
    "\n",
    "from sklearn.preprocessing import StandardScaler\n",
    "\n",
    "# Apply scaling and convert back to DataFrame\n",
    "scaler = StandardScaler()\n",
    "X_scaled = scaler.fit_transform(X)\n",
    "X = pd.DataFrame(X_scaled, columns=X.columns)"
   ]
  },
  {
   "cell_type": "code",
   "execution_count": 38,
   "metadata": {},
   "outputs": [],
   "source": [
    "#Salary dataset\n",
    "X, Y = data_salary.iloc[:, :-1], data_salary.iloc[:, -1]\n",
    "\n",
    "from sklearn.preprocessing import StandardScaler\n",
    "\n",
    "# Apply scaling and convert back to DataFrame\n",
    "scaler = StandardScaler()\n",
    "X_scaled = scaler.fit_transform(X)\n",
    "X = pd.DataFrame(X_scaled, columns=X.columns)"
   ]
  },
  {
   "cell_type": "markdown",
   "metadata": {},
   "source": [
    "2. Show that the least squares solution is given by:\n",
    "\n",
    "$$\\widehat{\\beta}=(X^{\\top}X)^{-1}X^\\top Y$$ "
   ]
  },
  {
   "cell_type": "markdown",
   "metadata": {},
   "source": [
    "- Add a column of 1 to take into account the: ''intercept'' $\\beta_0$"
   ]
  },
  {
   "cell_type": "code",
   "execution_count": 39,
   "metadata": {},
   "outputs": [],
   "source": [
    "import numpy as np\n",
    "X['intercept'] = np.ones(len(X))"
   ]
  },
  {
   "cell_type": "code",
   "execution_count": 40,
   "metadata": {},
   "outputs": [
    {
     "data": {
      "text/html": [
       "<div>\n",
       "<style scoped>\n",
       "    .dataframe tbody tr th:only-of-type {\n",
       "        vertical-align: middle;\n",
       "    }\n",
       "\n",
       "    .dataframe tbody tr th {\n",
       "        vertical-align: top;\n",
       "    }\n",
       "\n",
       "    .dataframe thead th {\n",
       "        text-align: right;\n",
       "    }\n",
       "</style>\n",
       "<table border=\"1\" class=\"dataframe\">\n",
       "  <thead>\n",
       "    <tr style=\"text-align: right;\">\n",
       "      <th></th>\n",
       "      <th>YearsExperience</th>\n",
       "      <th>EducationLevel</th>\n",
       "      <th>Age</th>\n",
       "      <th>City</th>\n",
       "      <th>JobLevel</th>\n",
       "      <th>intercept</th>\n",
       "    </tr>\n",
       "  </thead>\n",
       "  <tbody>\n",
       "    <tr>\n",
       "      <th>0</th>\n",
       "      <td>-0.546551</td>\n",
       "      <td>0.449201</td>\n",
       "      <td>0.800087</td>\n",
       "      <td>1.225049</td>\n",
       "      <td>-0.500517</td>\n",
       "      <td>1.0</td>\n",
       "    </tr>\n",
       "    <tr>\n",
       "      <th>1</th>\n",
       "      <td>1.813970</td>\n",
       "      <td>1.365938</td>\n",
       "      <td>0.173182</td>\n",
       "      <td>-1.363082</td>\n",
       "      <td>-0.500517</td>\n",
       "      <td>1.0</td>\n",
       "    </tr>\n",
       "    <tr>\n",
       "      <th>2</th>\n",
       "      <td>0.906077</td>\n",
       "      <td>1.365938</td>\n",
       "      <td>1.505355</td>\n",
       "      <td>1.225049</td>\n",
       "      <td>-0.500517</td>\n",
       "      <td>1.0</td>\n",
       "    </tr>\n",
       "    <tr>\n",
       "      <th>3</th>\n",
       "      <td>0.179763</td>\n",
       "      <td>-0.467536</td>\n",
       "      <td>-0.767175</td>\n",
       "      <td>-1.363082</td>\n",
       "      <td>-1.410549</td>\n",
       "      <td>1.0</td>\n",
       "    </tr>\n",
       "    <tr>\n",
       "      <th>4</th>\n",
       "      <td>-0.364973</td>\n",
       "      <td>0.449201</td>\n",
       "      <td>1.348629</td>\n",
       "      <td>-0.500372</td>\n",
       "      <td>1.319546</td>\n",
       "      <td>1.0</td>\n",
       "    </tr>\n",
       "  </tbody>\n",
       "</table>\n",
       "</div>"
      ],
      "text/plain": [
       "   YearsExperience  EducationLevel       Age      City  JobLevel  intercept\n",
       "0        -0.546551        0.449201  0.800087  1.225049 -0.500517        1.0\n",
       "1         1.813970        1.365938  0.173182 -1.363082 -0.500517        1.0\n",
       "2         0.906077        1.365938  1.505355  1.225049 -0.500517        1.0\n",
       "3         0.179763       -0.467536 -0.767175 -1.363082 -1.410549        1.0\n",
       "4        -0.364973        0.449201  1.348629 -0.500372  1.319546        1.0"
      ]
     },
     "execution_count": 40,
     "metadata": {},
     "output_type": "execute_result"
    }
   ],
   "source": [
    "X.head(5)"
   ]
  },
  {
   "cell_type": "markdown",
   "metadata": {},
   "source": [
    "- Compute $\\widehat{\\beta}$"
   ]
  },
  {
   "cell_type": "code",
   "execution_count": 41,
   "metadata": {},
   "outputs": [],
   "source": [
    "beta_opt = np.linalg.inv(np.transpose(X).dot(X)).dot(np.transpose(X).dot(Y))"
   ]
  },
  {
   "cell_type": "code",
   "execution_count": 42,
   "metadata": {},
   "outputs": [
    {
     "name": "stdout",
     "output_type": "stream",
     "text": [
      "[10015.56923644 11411.80624254 -1095.08492302   488.61618226\n",
      "  9490.85016922 56251.36      ]\n"
     ]
    }
   ],
   "source": [
    "print(beta_opt)"
   ]
  },
  {
   "cell_type": "markdown",
   "metadata": {},
   "source": [
    "4.Write the gradient of the function $f$ : $\\beta \\in \\mathbb{R} \\mapsto \\vert \\vert Y − X\\beta \\vert \\vert ^2$"
   ]
  },
  {
   "cell_type": "code",
   "execution_count": 43,
   "metadata": {},
   "outputs": [],
   "source": [
    "def f_obj(beta):\n",
    "    #obj = #TODO \n",
    "    return np.linalg.norm(Y - X.dot(beta)) ** 2 \n",
    "\n",
    "def gradient_f(beta): \n",
    "    #grad = TODO\n",
    "    grad = -2 * np.transpose(X).dot(Y-X.dot(beta)) \n",
    "    return grad"
   ]
  },
  {
   "cell_type": "markdown",
   "metadata": {},
   "source": [
    "5.Implement the gradient descent method and plot the curve corresponding to $t \\mapsto ∥\\beta_t − \\widehat{\\beta}∥^2$, where $\\beta_t$ represents the iteration number $t$ for gradient descent given $\\beta_0$ and a stepsize."
   ]
  },
  {
   "cell_type": "markdown",
   "metadata": {},
   "source": [
    "- Definition  of the gradient descent function: "
   ]
  },
  {
   "cell_type": "code",
   "execution_count": 44,
   "metadata": {},
   "outputs": [],
   "source": [
    "def gradient_descent(n_iter, beta0, step): \n",
    "    beta_old = beta0\n",
    "    objectives = []\n",
    "    errors = [] \n",
    "    print( 'i ', ' | ', 'obj      ', ' | '  ,'err')\n",
    "    print('\\n')\n",
    "    for i in range(1,n_iter):\n",
    "        # insert the gradient descent formula \n",
    "        beta_new = beta_old - step * gradient_f(beta_old)\n",
    "        obj = f_obj(beta_new)\n",
    "        err = np.linalg.norm((beta_new-beta_opt))**2\n",
    "        errors.append(err)\n",
    "        objectives.append(obj)\n",
    "        if (i % 10 == 0):\n",
    "            print( i , '  |  ',  objectives[-1], '  |  ',  errors[-1] )\n",
    "            print('\\n')\n",
    "        beta_old = beta_new\n",
    "    return (beta_new, errors)"
   ]
  },
  {
   "cell_type": "markdown",
   "metadata": {},
   "source": [
    "*N.B : We can think of a different stopping rule to replace the loop on n_iterations.*"
   ]
  },
  {
   "cell_type": "markdown",
   "metadata": {},
   "source": [
    "- Compute the optimal least squares solution:"
   ]
  },
  {
   "cell_type": "code",
   "execution_count": 45,
   "metadata": {},
   "outputs": [
    {
     "name": "stdout",
     "output_type": "stream",
     "text": [
      "i   |  obj        |  err\n",
      "\n",
      "\n",
      "10   |   7787330597.336405   |   44853831.75421356\n",
      "\n",
      "\n",
      "20   |   3536907132.2364745   |   704352.8063879809\n",
      "\n",
      "\n",
      "30   |   3474405858.6356606   |   15349.382900029463\n",
      "\n",
      "\n",
      "40   |   3473163533.9394603   |   457.11853885454053\n",
      "\n",
      "\n",
      "50   |   3473129042.326444   |   16.21363823250027\n",
      "\n",
      "\n",
      "60   |   3473127858.688031   |   0.6171427883993035\n",
      "\n",
      "\n",
      "70   |   3473127814.1962557   |   0.024104452716064803\n",
      "\n",
      "\n",
      "80   |   3473127812.4666533   |   0.0009508911882240593\n",
      "\n",
      "\n",
      "90   |   3473127812.398556   |   3.7676909115731084e-05\n",
      "\n",
      "\n"
     ]
    }
   ],
   "source": [
    "n_iter = 100\n",
    "result = gradient_descent(n_iter, beta0= np.zeros(X.shape[1]), step=0.001)"
   ]
  },
  {
   "cell_type": "markdown",
   "metadata": {},
   "source": [
    "- Draw the curve of errors: "
   ]
  },
  {
   "cell_type": "code",
   "execution_count": 46,
   "metadata": {},
   "outputs": [
    {
     "data": {
      "text/plain": [
       "Text(0, 0.5, 'error with respect to the optimum')"
      ]
     },
     "execution_count": 46,
     "metadata": {},
     "output_type": "execute_result"
    },
    {
     "data": {
      "image/png": "[encoded data removed]",
      "text/plain": [
       "<Figure size 500x500 with 1 Axes>"
      ]
     },
     "metadata": {},
     "output_type": "display_data"
    }
   ],
   "source": [
    "import matplotlib.pylab as plt \n",
    "%matplotlib inline\n",
    "fig1 = plt.figure(figsize=(5,5))\n",
    "plt.plot(result[1])\n",
    "plt.title('Error evolution')\n",
    "plt.xlabel('Iterations of gradient descent')\n",
    "plt.ylabel('error with respect to the optimum')"
   ]
  },
  {
   "cell_type": "code",
   "execution_count": 47,
   "metadata": {},
   "outputs": [
    {
     "name": "stdout",
     "output_type": "stream",
     "text": [
      "YearsExperience: 10015.5687\n",
      "EducationLevel: 11411.8057\n",
      "Age: -1095.0856\n",
      "City: 488.6155\n",
      "JobLevel: 9490.8494\n",
      "intercept: 56251.3600\n"
     ]
    },
    {
     "data": {
      "image/png": "[encoded data removed]",
      "text/plain": [
       "<Figure size 1000x600 with 1 Axes>"
      ]
     },
     "metadata": {},
     "output_type": "display_data"
    }
   ],
   "source": [
    "# Assume that X_scaled is already defined as part of your scaled dataset\n",
    "feature_names = list(X.columns)\n",
    "\n",
    "# Function to display coefficients\n",
    "def display_coefficients(beta, feature_names):\n",
    "    coef_dict = dict(zip(feature_names, beta))\n",
    "    for feature, coef in coef_dict.items():\n",
    "        print(f\"{feature}: {coef:.4f}\")\n",
    "\n",
    "# Function to plot the regression line (useful if there's one feature to show in a 2D plot)\n",
    "def plot_regression_line(X, Y, beta, feature_name='Feature', target_name='Target'):\n",
    "    # For visualization, we assume we're focusing on one feature plus an intercept\n",
    "    X_feature = X[feature_name]\n",
    "    Y_pred = X_feature * beta[0] + beta[-1]  # assuming last beta value is the intercept\n",
    "    \n",
    "    plt.figure(figsize=(10, 6))\n",
    "    plt.scatter(X_feature, Y, color=\"blue\", label=\"Data Points\")\n",
    "    plt.plot(X_feature, Y_pred, color=\"red\", label=\"Regression Line\")\n",
    "    plt.xlabel(feature_name)\n",
    "    plt.ylabel(target_name)\n",
    "    plt.legend()\n",
    "    plt.title(f\"Regression Line for {feature_name} vs {target_name}\")\n",
    "    plt.grid(True)\n",
    "    plt.show()\n",
    "\n",
    "# Show the final coefficients for each feature\n",
    "display_coefficients(result[0], feature_names)\n",
    "\n",
    "# Use the plotting function only if there's one feature to visualize the regression line\n",
    "#plot_regression_line(X, Y, result[0], feature_name='MarketingBudget', target_name='Sales')\n",
    "plot_regression_line(X, Y, result[0], feature_name='YearsExperience', target_name='Salary')\n"
   ]
  },
  {
   "cell_type": "code",
   "execution_count": 48,
   "metadata": {},
   "outputs": [
    {
     "name": "stdout",
     "output_type": "stream",
     "text": [
      "Coefficients:\n",
      "YearsExperience: 10015.5692\n",
      "EducationLevel: 11411.8062\n",
      "Age: -1095.0849\n",
      "City: 488.6162\n",
      "JobLevel: 9490.8502\n",
      "intercept: 0.0000\n",
      "Intercept: 56251.3600\n"
     ]
    }
   ],
   "source": [
    "from sklearn.linear_model import LinearRegression\n",
    "\n",
    "# Fit the Linear Regression model using scikit-learn\n",
    "model = LinearRegression()\n",
    "model.fit(X, Y)\n",
    "\n",
    "# Display the coefficients and intercept\n",
    "print(\"Coefficients:\")\n",
    "for feature, coef in zip(X.columns, model.coef_):\n",
    "    print(f\"{feature}: {coef:.4f}\")\n",
    "\n",
    "print(f\"Intercept: {model.intercept_:.4f}\")"
   ]
  },
  {
   "cell_type": "code",
   "execution_count": 36,
   "metadata": {},
   "outputs": [
    {
     "name": "stdout",
     "output_type": "stream",
     "text": [
      "Predicted Sales:\n",
      "0      319.581210\n",
      "1       45.188499\n",
      "2     1275.585963\n",
      "3     1075.313361\n",
      "4     1453.791711\n",
      "         ...     \n",
      "95    1221.133376\n",
      "96     707.293983\n",
      "97      29.606230\n",
      "98     406.443992\n",
      "99    1309.327559\n",
      "Length: 100, dtype: float64\n",
      "R-squared (R2): 0.9346685491100755\n"
     ]
    }
   ],
   "source": [
    "# PREDICTIONS FOR SALES \n",
    "\n",
    "# Load the testing dataset\n",
    "predict_sales = pd.read_csv(\"Sales_Prediction_Dataset.csv\", sep=\",\")\n",
    "X_test = predict_sales.iloc[:, :-1]  # All features except the last column\n",
    "Y_test = predict_sales.iloc[:, -1]   # The last column is the target\n",
    "\n",
    "# Apply the previously fitted scaler to the test data (use transform, not fit_transform)\n",
    "X_test_scaled = scaler.transform(X_test)\n",
    "X_test_scaled = pd.DataFrame(X_test_scaled, columns=X_test.columns)  # Convert back to DataFrame for clarity\n",
    "\n",
    "# Add intercept column (ones) to the test set\n",
    "X_test_scaled['intercept'] = np.ones(len(X_test_scaled))\n",
    "\n",
    "# Make predictions using the optimized coefficients from gradient descent\n",
    "sales_predictions = X_test_scaled.dot(result[0])\n",
    "\n",
    "# Display predictions\n",
    "print(\"Predicted Sales:\")\n",
    "print(sales_predictions)\n",
    "\n",
    "from sklearn.metrics import mean_squared_error, mean_absolute_error, r2_score\n",
    "\n",
    "# R-squared\n",
    "r2 = r2_score(Y_test, sales_predictions)\n",
    "print(\"R-squared (R2):\", r2)"
   ]
  },
  {
   "cell_type": "code",
   "execution_count": 49,
   "metadata": {},
   "outputs": [
    {
     "name": "stdout",
     "output_type": "stream",
     "text": [
      "Predicted Salaries:\n",
      "0     50875.612188\n",
      "1     84401.110424\n",
      "2     75113.806699\n",
      "3     39503.149780\n",
      "4     68524.401252\n",
      "          ...     \n",
      "95    79425.603352\n",
      "96    43935.445876\n",
      "97    30226.456171\n",
      "98    57732.993418\n",
      "99    47869.177941\n",
      "Length: 100, dtype: float64\n",
      "R-squared (R2): -9.642465704068442\n"
     ]
    }
   ],
   "source": [
    "# PREDICTIONS FOR SALARY\n",
    "\n",
    "# Load the testing dataset\n",
    "predict_salary = pd.read_csv(\"Salary_Prediction_Dataset.csv\", sep=\",\")\n",
    "X_test = predict_salary.iloc[:, :-1]  # All features except the last column\n",
    "Y_test = predict_salary.iloc[:, -1]   # The last column is the target\n",
    "\n",
    "# Apply the previously fitted scaler to the test data (use transform, not fit_transform)\n",
    "X_test_scaled = scaler.transform(X_test)\n",
    "X_test_scaled = pd.DataFrame(X_test_scaled, columns=X_test.columns)  # Convert back to DataFrame for clarity\n",
    "\n",
    "# Add intercept column (ones) to the test set\n",
    "X_test_scaled['intercept'] = np.ones(len(X_test_scaled))\n",
    "\n",
    "# Make predictions using the optimized coefficients from gradient descent\n",
    "salary_predictions = X_test_scaled.dot(result[0])\n",
    "\n",
    "# Display predictions\n",
    "print(\"Predicted Salaries:\")\n",
    "print(salary_predictions)\n",
    "\n",
    "# R-squared\n",
    "r2 = r2_score(Y_test, sales_predictions)\n",
    "print(\"R-squared (R2):\", r2)"
   ]
  },
  {
   "cell_type": "markdown",
   "metadata": {},
   "source": []
  },
  {
   "cell_type": "markdown",
   "metadata": {},
   "source": []
  },
  {
   "cell_type": "code",
   "execution_count": null,
   "metadata": {
    "scrolled": true
   },
   "outputs": [],
   "source": []
  },
  {
   "cell_type": "code",
   "execution_count": null,
   "metadata": {},
   "outputs": [],
   "source": []
  },
  {
   "cell_type": "code",
   "execution_count": null,
   "metadata": {},
   "outputs": [],
   "source": []
  },
  {
   "cell_type": "code",
   "execution_count": null,
   "metadata": {},
   "outputs": [],
   "source": []
  },
  {
   "cell_type": "markdown",
   "metadata": {},
   "source": [
    "2. We recall that the logistic regression minimization problem is given by: \n",
    "\n",
    "$$ \\min_{\\beta} f(\\beta) = \\sum_{i=1}^{n}\\left[y_i\\log\\left(1+ \\exp^{-\\langle x_i, \\beta \\rangle}\\right) + (1-y_i)\\log\\left(1+\\exp^{ \\langle x_i, \\beta \\rangle }\\right)\\right]$$\n",
    "where\n",
    "$$ p_i = \\frac{1}{1+ \\exp^{-\\langle x_i, \\beta \\rangle}} = \\mathbb{P}(y_i = 1 | \\langle x_i,\\beta\\rangle) $$ "
   ]
  },
  {
   "cell_type": "markdown",
   "metadata": {},
   "source": [
    "2.1. Define the objective function at point $\\beta$ with respect to X,y:"
   ]
  },
  {
   "cell_type": "code",
   "execution_count": null,
   "metadata": {},
   "outputs": [],
   "source": []
  },
  {
   "cell_type": "markdown",
   "metadata": {},
   "source": [
    "2.2. Define the gradient of the objective function as a function of $\\beta$"
   ]
  },
  {
   "cell_type": "code",
   "execution_count": 55,
   "metadata": {},
   "outputs": [],
   "source": []
  },
  {
   "cell_type": "markdown",
   "metadata": {},
   "source": []
  },
  {
   "cell_type": "code",
   "execution_count": null,
   "metadata": {},
   "outputs": [],
   "source": []
  },
  {
   "cell_type": "code",
   "execution_count": null,
   "metadata": {},
   "outputs": [],
   "source": []
  },
  {
   "cell_type": "code",
   "execution_count": null,
   "metadata": {},
   "outputs": [],
   "source": []
  },
  {
   "cell_type": "code",
   "execution_count": null,
   "metadata": {},
   "outputs": [],
   "source": []
  },
  {
   "cell_type": "markdown",
   "metadata": {},
   "source": []
  },
  {
   "cell_type": "markdown",
   "metadata": {},
   "source": []
  },
  {
   "cell_type": "code",
   "execution_count": null,
   "metadata": {},
   "outputs": [],
   "source": []
  },
  {
   "cell_type": "code",
   "execution_count": null,
   "metadata": {},
   "outputs": [],
   "source": []
  },
  {
   "cell_type": "code",
   "execution_count": null,
   "metadata": {},
   "outputs": [],
   "source": []
  },
  {
   "cell_type": "code",
   "execution_count": null,
   "metadata": {},
   "outputs": [],
   "source": []
  },
  {
   "cell_type": "code",
   "execution_count": null,
   "metadata": {},
   "outputs": [],
   "source": []
  },
  {
   "cell_type": "code",
   "execution_count": null,
   "metadata": {},
   "outputs": [],
   "source": []
  }
 ],
 "metadata": {
  "anaconda-cloud": {},
  "kernelspec": {
   "display_name": "Python 3",
   "language": "python",
   "name": "python3"
  },
  "language_info": {
   "codemirror_mode": {
    "name": "ipython",
    "version": 3
   },
   "file_extension": ".py",
   "mimetype": "text/x-python",
   "name": "python",
   "nbconvert_exporter": "python",
   "pygments_lexer": "ipython3",
   "version": "3.8.8"
  }
 },
 "nbformat": 4,
 "nbformat_minor": 2
}
