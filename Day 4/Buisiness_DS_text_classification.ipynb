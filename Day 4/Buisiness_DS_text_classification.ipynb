{
 "cells": [
  {
   "cell_type": "markdown",
   "metadata": {
    "collapsed": true,
    "id": "XMd5mLpqHtzQ"
   },
   "source": [
    "<h1><center> Business Data Science:  Text mining use-case </center></h1>"
   ]
  },
  {
   "cell_type": "code",
   "execution_count": null,
   "metadata": {},
   "outputs": [],
   "source": []
  },
  {
   "cell_type": "code",
   "execution_count": null,
   "metadata": {},
   "outputs": [],
   "source": []
  },
  {
   "cell_type": "markdown",
   "metadata": {
    "id": "zhpKdGk_HtzU"
   },
   "source": [
    "## Definitions: \n",
    "\n",
    "1. **Input Features** are the variables that are provided to the model to learn from. In a modeling context, the **Target** is what we are trying to predict / approximate. \n",
    "\n",
    "\n",
    "2. The goal of **Text mining** is to pull relevant information from textual data, such as keywords, text summaries, and sentiment classification.\n",
    "\n",
    "\n",
    "3. **Text classification** involves taking a text representation as input and predicting the associated class based on the context described in the text. For example: classify a tweet as positive or negative. \n",
    "\n",
    "\n",
    "## Objectives\n",
    "\n",
    "The objective of this study is to predict the customer's intention (Target) based on the transcript of his call. \n",
    "\n",
    "We classify the intentions into five main categories:\n",
    "\n",
    "  - Confirm\n",
    "  - Infirm      \n",
    "  - NewAppointment\n",
    "  - Propose      \n",
    "  - Transfer       \n",
    "\n",
    "The client calls consist of a free request, i.e. without the constraint of using a particular vocabulary or format, in French. Here are some examples of such requests, in *verbatim* form, and the corresponding intentions: \n",
    "\n",
    "  - \"ok ben oui ça ira\"                              (Confirm)\n",
    "  - \"c est un peu tôt\"                               (Infirm)\n",
    "  - \"alors ça se serait pour prendre rendez-vous\"    (NewAppointment)\n",
    "  - \"si c est possible je préférerais plutôt $TIME$\" (Propose)\n",
    "  - \"je veux pas parler à un robot\"                  (Transfer)\n",
    "  \n",
    "The purpose of this study is to automatically predict the intention from the verbatim of the request. For that, we rely on an annotated database containing examples of verbatim and associated intentions.\n",
    "\n",
    "\n",
    "### Learning objectives\n",
    "\n",
    "By the end of this notebook, you will learn: \n",
    "    \n",
    "    - Process and Clean text data. \n",
    "    \n",
    "    - Prepare and Transform text data in the correct format required by machine learning classification models. \n",
    "    \n",
    "    - Define the suppervised training pipeline: \n",
    "\n",
    "       Inputs preparation > model definition > cross-validation process > model's scoring > performance comparison"
   ]
  },
  {
   "cell_type": "code",
   "execution_count": 37,
   "metadata": {
    "id": "x90FjOevHtzU"
   },
   "outputs": [],
   "source": [
    "import warnings\n",
    "warnings.filterwarnings('ignore')"
   ]
  },
  {
   "cell_type": "markdown",
   "metadata": {
    "id": "lv_X_efiHtzV"
   },
   "source": [
    "## I. Setup and Data loading"
   ]
  },
  {
   "cell_type": "code",
   "execution_count": 38,
   "metadata": {
    "id": "SfUYlPzGHtzW"
   },
   "outputs": [],
   "source": [
    "import os \n",
    "datadir = os.getcwd() # Get the path of the current working directory.\n",
    "datafile= 'calldesk-intents.txt' # name of the data file that exist in the same directory of the notebook. "
   ]
  },
  {
   "cell_type": "code",
   "execution_count": 39,
   "metadata": {
    "colab": {
     "base_uri": "https://localhost:8080/",
     "height": 329
    },
    "id": "-Kiacn1VHtzW",
    "outputId": "ee1b4df3-9ad8-4177-afd7-7a3398c69347"
   },
   "outputs": [],
   "source": [
    "import pandas as pd\n",
    "data = pd.read_csv(datafile , header=None, encoding=\"utf-8\").squeeze()"
   ]
  },
  {
   "cell_type": "markdown",
   "metadata": {
    "id": "VuROLFLrHtzW"
   },
   "source": [
    "Note here the `squeeze` operator transforms a `pandas.DataFrame` into a `pandas.Series`, which is not required but useful since the data has only one column at this stage."
   ]
  },
  {
   "cell_type": "code",
   "execution_count": 40,
   "metadata": {
    "colab": {
     "base_uri": "https://localhost:8080/"
    },
    "id": "Ny4hK1S1HtzX",
    "outputId": "9cdda752-4d4c-4d98-be13-4b7c8ebd158f"
   },
   "outputs": [
    {
     "data": {
      "text/plain": [
       "0                                  Confirm OK\n",
       "1                          Confirm absolument\n",
       "2    Confirm ah oui ça c est bien ça comme ça\n",
       "3                               Confirm aller\n",
       "4         Confirm allez c est bon pour $TIME$\n",
       "Name: 0, dtype: object"
      ]
     },
     "execution_count": 40,
     "metadata": {},
     "output_type": "execute_result"
    }
   ],
   "source": [
    "data.head()"
   ]
  },
  {
   "cell_type": "markdown",
   "metadata": {
    "id": "q0b-nFDQHtzY"
   },
   "source": [
    "We observe that each row consists of a text sentence where the first term provides the intention class and the following words correpond to the verbatim.  "
   ]
  },
  {
   "cell_type": "markdown",
   "metadata": {
    "id": "KBTIYx0SHtzY"
   },
   "source": [
    "So we will separate the two components and to generate two columns: `verbatim` and `intent`. The result is grouped in a single structure: `df`, of type `pandas.DataFrame`.\n"
   ]
  },
  {
   "cell_type": "code",
   "execution_count": 41,
   "metadata": {
    "id": "Jqg1QwIeHtzZ"
   },
   "outputs": [],
   "source": [
    "df = pd.DataFrame()\n",
    "df['intent'] = data.apply(lambda l : l.split(' ', 1)[0].strip())\n",
    "df['verbatim'] = data.apply(lambda l : l.split(' ', 1)[1].strip())"
   ]
  },
  {
   "cell_type": "markdown",
   "metadata": {
    "id": "FsjMwwOcHtzZ"
   },
   "source": [
    "### Distribution of target variable "
   ]
  },
  {
   "cell_type": "code",
   "execution_count": 42,
   "metadata": {
    "colab": {
     "base_uri": "https://localhost:8080/",
     "height": 206
    },
    "id": "8FB3TGfirCwy",
    "outputId": "2516f2b2-d057-47f2-ea78-212fd82bfb92"
   },
   "outputs": [
    {
     "data": {
      "text/html": [
       "<div>\n",
       "<style scoped>\n",
       "    .dataframe tbody tr th:only-of-type {\n",
       "        vertical-align: middle;\n",
       "    }\n",
       "\n",
       "    .dataframe tbody tr th {\n",
       "        vertical-align: top;\n",
       "    }\n",
       "\n",
       "    .dataframe thead th {\n",
       "        text-align: right;\n",
       "    }\n",
       "</style>\n",
       "<table border=\"1\" class=\"dataframe\">\n",
       "  <thead>\n",
       "    <tr style=\"text-align: right;\">\n",
       "      <th></th>\n",
       "      <th>intent</th>\n",
       "      <th>verbatim</th>\n",
       "    </tr>\n",
       "  </thead>\n",
       "  <tbody>\n",
       "    <tr>\n",
       "      <th>0</th>\n",
       "      <td>Confirm</td>\n",
       "      <td>OK</td>\n",
       "    </tr>\n",
       "    <tr>\n",
       "      <th>1</th>\n",
       "      <td>Confirm</td>\n",
       "      <td>absolument</td>\n",
       "    </tr>\n",
       "    <tr>\n",
       "      <th>2</th>\n",
       "      <td>Confirm</td>\n",
       "      <td>ah oui ça c est bien ça comme ça</td>\n",
       "    </tr>\n",
       "    <tr>\n",
       "      <th>3</th>\n",
       "      <td>Confirm</td>\n",
       "      <td>aller</td>\n",
       "    </tr>\n",
       "    <tr>\n",
       "      <th>4</th>\n",
       "      <td>Confirm</td>\n",
       "      <td>allez c est bon pour $TIME$</td>\n",
       "    </tr>\n",
       "  </tbody>\n",
       "</table>\n",
       "</div>"
      ],
      "text/plain": [
       "    intent                          verbatim\n",
       "0  Confirm                                OK\n",
       "1  Confirm                        absolument\n",
       "2  Confirm  ah oui ça c est bien ça comme ça\n",
       "3  Confirm                             aller\n",
       "4  Confirm       allez c est bon pour $TIME$"
      ]
     },
     "execution_count": 42,
     "metadata": {},
     "output_type": "execute_result"
    }
   ],
   "source": [
    "df.head()"
   ]
  },
  {
   "cell_type": "code",
   "execution_count": 43,
   "metadata": {
    "colab": {
     "base_uri": "https://localhost:8080/",
     "height": 315
    },
    "id": "PEVfC1wAHtzZ",
    "outputId": "10be7227-8cfd-42f1-c3bf-e31acd69288e"
   },
   "outputs": [
    {
     "data": {
      "image/png": "[encoded data removed]",
      "text/plain": [
       "<Figure size 640x480 with 1 Axes>"
      ]
     },
     "metadata": {},
     "output_type": "display_data"
    }
   ],
   "source": [
    "import seaborn as sns\n",
    "%matplotlib inline\n",
    "intents = df.groupby('intent').count().reset_index()\n",
    "sns.barplot(x='intent', y ='verbatim', data=intents);"
   ]
  },
  {
   "cell_type": "markdown",
   "metadata": {
    "id": "vVHF-t5PHtza"
   },
   "source": [
    "We notice that the `NewAppointment` class is in the most present one. On the other hand, the class `Transfer` is under represented. We have to take into account this unbalanced distribution in the training and evaluation of our different models. \n"
   ]
  },
  {
   "cell_type": "markdown",
   "metadata": {
    "id": "nthQSM8UHtza"
   },
   "source": [
    "## II. Data pre-processing"
   ]
  },
  {
   "cell_type": "markdown",
   "metadata": {
    "id": "i6EQM9j7Htza"
   },
   "source": [
    "- **(1)** The first step is to clean the sentences from special characters and punctiations as they won't impact the intention classification. "
   ]
  },
  {
   "cell_type": "code",
   "execution_count": 44,
   "metadata": {
    "id": "6uuU8_s1Htza"
   },
   "outputs": [],
   "source": [
    "import re\n",
    "# function to clean the text and separate the juntion between joined words \n",
    "def clean_str(verbatim):\n",
    "    \"\"\"\n",
    "    Remove / process scpecial characters from each verbatim\n",
    "    \"\"\"\n",
    "    verbatim = re.sub(r\"[-,!?\\'\\`]\", \" \", verbatim)\n",
    "    verbatim = re.sub(r\"\\'s\", \" \\'s\", verbatim)\n",
    "    verbatim = re.sub(r\"\\'ve\", \" \\'ve\", verbatim)\n",
    "    verbatim = re.sub(r\"n\\'t\", \" n\\'t\", verbatim)\n",
    "    verbatim = re.sub(r\"\\'re\", \" \\'re\", verbatim)\n",
    "    verbatim = re.sub(r\"\\'d\", \" \\'d\", verbatim)\n",
    "    verbatim = re.sub(r\"\\'ll\", \" \\'ll\", verbatim)\n",
    "    verbatim = re.sub(r\",\", \" , \", verbatim)\n",
    "    verbatim = re.sub(r\"!\", \" ! \", verbatim)\n",
    "    verbatim = re.sub(r\"\\(\", \" \\( \", verbatim)\n",
    "    verbatim = re.sub(r\"\\)\", \" \\) \", verbatim)\n",
    "    verbatim = re.sub(r\"\\?\", \" \\? \", verbatim)\n",
    "    verbatim = re.sub(r\"\\s{2,}\", \" \", verbatim)\n",
    "    return verbatim.lower()\n",
    "\n",
    "df['verbatim']= df['verbatim'].apply(clean_str)"
   ]
  },
  {
   "cell_type": "markdown",
   "metadata": {
    "id": "xQq-g8YoHtza"
   },
   "source": [
    "- **(2)** The second step consists of converting each sentence to a list of words, this operation is often referred to as **Tokenization**. \n",
    "\n",
    "    * The straightfoward solution is to use the python operator `.split(\" \")` that will detects white spaces between words and split. \n",
    "    \n",
    "    * For more sophisticated segmentation, we can use the method <a href=\"https://www.guru99.com/tokenize-words-sentences-nltk.html\">method</a>  provived by the **nltk package**. This method is able to break down sentence into a list of words even when a white space is ommitted. \n",
    "\n"
   ]
  },
  {
   "cell_type": "code",
   "execution_count": 45,
   "metadata": {
    "id": "bgUcBuzxHtzb"
   },
   "outputs": [],
   "source": [
    "df['segmented_verbatim'] = [s.strip().split() for s in df['verbatim']]"
   ]
  },
  {
   "cell_type": "code",
   "execution_count": 46,
   "metadata": {
    "colab": {
     "base_uri": "https://localhost:8080/",
     "height": 206
    },
    "id": "QnYFPe9oHtzb",
    "outputId": "932da6d8-8a09-4754-f6f1-58843c51d72a"
   },
   "outputs": [
    {
     "data": {
      "text/html": [
       "<div>\n",
       "<style scoped>\n",
       "    .dataframe tbody tr th:only-of-type {\n",
       "        vertical-align: middle;\n",
       "    }\n",
       "\n",
       "    .dataframe tbody tr th {\n",
       "        vertical-align: top;\n",
       "    }\n",
       "\n",
       "    .dataframe thead th {\n",
       "        text-align: right;\n",
       "    }\n",
       "</style>\n",
       "<table border=\"1\" class=\"dataframe\">\n",
       "  <thead>\n",
       "    <tr style=\"text-align: right;\">\n",
       "      <th></th>\n",
       "      <th>intent</th>\n",
       "      <th>verbatim</th>\n",
       "      <th>segmented_verbatim</th>\n",
       "    </tr>\n",
       "  </thead>\n",
       "  <tbody>\n",
       "    <tr>\n",
       "      <th>0</th>\n",
       "      <td>Confirm</td>\n",
       "      <td>ok</td>\n",
       "      <td>[ok]</td>\n",
       "    </tr>\n",
       "    <tr>\n",
       "      <th>1</th>\n",
       "      <td>Confirm</td>\n",
       "      <td>absolument</td>\n",
       "      <td>[absolument]</td>\n",
       "    </tr>\n",
       "    <tr>\n",
       "      <th>2</th>\n",
       "      <td>Confirm</td>\n",
       "      <td>ah oui ça c est bien ça comme ça</td>\n",
       "      <td>[ah, oui, ça, c, est, bien, ça, comme, ça]</td>\n",
       "    </tr>\n",
       "    <tr>\n",
       "      <th>3</th>\n",
       "      <td>Confirm</td>\n",
       "      <td>aller</td>\n",
       "      <td>[aller]</td>\n",
       "    </tr>\n",
       "    <tr>\n",
       "      <th>4</th>\n",
       "      <td>Confirm</td>\n",
       "      <td>allez c est bon pour $time$</td>\n",
       "      <td>[allez, c, est, bon, pour, $time$]</td>\n",
       "    </tr>\n",
       "  </tbody>\n",
       "</table>\n",
       "</div>"
      ],
      "text/plain": [
       "    intent                          verbatim  \\\n",
       "0  Confirm                                ok   \n",
       "1  Confirm                        absolument   \n",
       "2  Confirm  ah oui ça c est bien ça comme ça   \n",
       "3  Confirm                             aller   \n",
       "4  Confirm       allez c est bon pour $time$   \n",
       "\n",
       "                           segmented_verbatim  \n",
       "0                                        [ok]  \n",
       "1                                [absolument]  \n",
       "2  [ah, oui, ça, c, est, bien, ça, comme, ça]  \n",
       "3                                     [aller]  \n",
       "4          [allez, c, est, bon, pour, $time$]  "
      ]
     },
     "execution_count": 46,
     "metadata": {},
     "output_type": "execute_result"
    }
   ],
   "source": [
    "df.head()"
   ]
  },
  {
   "cell_type": "markdown",
   "metadata": {
    "id": "9BTkYJeiHtzb"
   },
   "source": [
    "* **(3)** The third step is to remove stopwords that are often used for syntax and are not informative for the intention classification task. Example of french stopwords are : `de`, `la`, and `dont`, etc. The nltk package  contains an exhaustive list that can be retrieved from `nltk.corpus.stopwords`."
   ]
  },
  {
   "cell_type": "code",
   "execution_count": 47,
   "metadata": {
    "colab": {
     "base_uri": "https://localhost:8080/"
    },
    "id": "g1sCO5BtO8iB",
    "outputId": "240574d1-91fa-4ecd-82d0-87f5d308f347"
   },
   "outputs": [
    {
     "name": "stdout",
     "output_type": "stream",
     "text": [
      "Requirement already satisfied: nltk in c:\\users\\rahimi\\appdata\\local\\miniconda3\\envs\\ml_env\\lib\\site-packages (3.8.1)\n",
      "Requirement already satisfied: click in c:\\users\\rahimi\\appdata\\local\\miniconda3\\envs\\ml_env\\lib\\site-packages (from nltk) (8.1.7)\n",
      "Requirement already satisfied: joblib in c:\\users\\rahimi\\appdata\\local\\miniconda3\\envs\\ml_env\\lib\\site-packages (from nltk) (1.3.2)\n",
      "Requirement already satisfied: regex>=2021.8.3 in c:\\users\\rahimi\\appdata\\local\\miniconda3\\envs\\ml_env\\lib\\site-packages (from nltk) (2023.12.25)\n",
      "Requirement already satisfied: tqdm in c:\\users\\rahimi\\appdata\\local\\miniconda3\\envs\\ml_env\\lib\\site-packages (from nltk) (4.67.1)\n",
      "Requirement already satisfied: colorama in c:\\users\\rahimi\\appdata\\local\\miniconda3\\envs\\ml_env\\lib\\site-packages (from click->nltk) (0.4.6)\n"
     ]
    }
   ],
   "source": [
    "# install the nltk package\n",
    "!pip install nltk"
   ]
  },
  {
   "cell_type": "code",
   "execution_count": 48,
   "metadata": {
    "colab": {
     "base_uri": "https://localhost:8080/"
    },
    "id": "D3D3rHFPPF5S",
    "outputId": "895a9800-00b6-48bb-b32a-bf21bc631e95"
   },
   "outputs": [
    {
     "name": "stderr",
     "output_type": "stream",
     "text": [
      "[nltk_data] Downloading package stopwords to\n",
      "[nltk_data]     C:\\Users\\rahimi\\AppData\\Roaming\\nltk_data...\n",
      "[nltk_data]   Package stopwords is already up-to-date!\n"
     ]
    },
    {
     "data": {
      "text/plain": [
       "True"
      ]
     },
     "execution_count": 48,
     "metadata": {},
     "output_type": "execute_result"
    }
   ],
   "source": [
    "import nltk\n",
    "# download the list of stopwords\n",
    "nltk.download('stopwords')"
   ]
  },
  {
   "cell_type": "code",
   "execution_count": 49,
   "metadata": {
    "colab": {
     "base_uri": "https://localhost:8080/"
    },
    "id": "XEylZjFHHtzb",
    "outputId": "c7b4f196-3ac4-4260-f2ae-7d90a193a558"
   },
   "outputs": [
    {
     "data": {
      "text/plain": [
       "['furent', 'pas', 'la', 'aurai', 'avons']"
      ]
     },
     "execution_count": 49,
     "metadata": {},
     "output_type": "execute_result"
    }
   ],
   "source": [
    "# Get the list of stop_words :\n",
    "from nltk.corpus import stopwords\n",
    "list_stopwords = list(set(stopwords.words('french')))\n",
    "list_stopwords[50:55]"
   ]
  },
  {
   "cell_type": "markdown",
   "metadata": {
    "id": "bXwxhuYvHtzb"
   },
   "source": [
    "- For each row of the dataframe, we will remove the stopwords from the list of `segmented_verbatim`. `pandas.DataFrame` offers an `apply` method that enables us to apply a `function` to each row entry. "
   ]
  },
  {
   "cell_type": "code",
   "execution_count": 50,
   "metadata": {
    "id": "4QaaisdeHtzc"
   },
   "outputs": [],
   "source": [
    "def remove_stopwords(segmented_verbatim):\n",
    "    return [w for w in segmented_verbatim if w.lower() not in list_stopwords]\n",
    "    \n",
    "# Remove the stopwords from the segmented verbatims\n",
    "df['segmented_verbatim'] = df['segmented_verbatim'].apply(remove_stopwords)"
   ]
  },
  {
   "cell_type": "code",
   "execution_count": 51,
   "metadata": {
    "colab": {
     "base_uri": "https://localhost:8080/",
     "height": 143
    },
    "id": "CmKyULx4Htzc",
    "outputId": "eff36576-85c5-4f90-b284-fa858190221e"
   },
   "outputs": [
    {
     "data": {
      "text/html": [
       "<div>\n",
       "<style scoped>\n",
       "    .dataframe tbody tr th:only-of-type {\n",
       "        vertical-align: middle;\n",
       "    }\n",
       "\n",
       "    .dataframe tbody tr th {\n",
       "        vertical-align: top;\n",
       "    }\n",
       "\n",
       "    .dataframe thead th {\n",
       "        text-align: right;\n",
       "    }\n",
       "</style>\n",
       "<table border=\"1\" class=\"dataframe\">\n",
       "  <thead>\n",
       "    <tr style=\"text-align: right;\">\n",
       "      <th></th>\n",
       "      <th>intent</th>\n",
       "      <th>verbatim</th>\n",
       "      <th>segmented_verbatim</th>\n",
       "    </tr>\n",
       "  </thead>\n",
       "  <tbody>\n",
       "    <tr>\n",
       "      <th>0</th>\n",
       "      <td>Confirm</td>\n",
       "      <td>ok</td>\n",
       "      <td>[ok]</td>\n",
       "    </tr>\n",
       "    <tr>\n",
       "      <th>1</th>\n",
       "      <td>Confirm</td>\n",
       "      <td>absolument</td>\n",
       "      <td>[absolument]</td>\n",
       "    </tr>\n",
       "    <tr>\n",
       "      <th>2</th>\n",
       "      <td>Confirm</td>\n",
       "      <td>ah oui ça c est bien ça comme ça</td>\n",
       "      <td>[ah, oui, ça, bien, ça, comme, ça]</td>\n",
       "    </tr>\n",
       "    <tr>\n",
       "      <th>3</th>\n",
       "      <td>Confirm</td>\n",
       "      <td>aller</td>\n",
       "      <td>[aller]</td>\n",
       "    </tr>\n",
       "    <tr>\n",
       "      <th>4</th>\n",
       "      <td>Confirm</td>\n",
       "      <td>allez c est bon pour $time$</td>\n",
       "      <td>[allez, bon, $time$]</td>\n",
       "    </tr>\n",
       "    <tr>\n",
       "      <th>5</th>\n",
       "      <td>Confirm</td>\n",
       "      <td>alors ça c est bien</td>\n",
       "      <td>[alors, ça, bien]</td>\n",
       "    </tr>\n",
       "  </tbody>\n",
       "</table>\n",
       "</div>"
      ],
      "text/plain": [
       "    intent                          verbatim  \\\n",
       "0  Confirm                                ok   \n",
       "1  Confirm                        absolument   \n",
       "2  Confirm  ah oui ça c est bien ça comme ça   \n",
       "3  Confirm                             aller   \n",
       "4  Confirm       allez c est bon pour $time$   \n",
       "5  Confirm               alors ça c est bien   \n",
       "\n",
       "                   segmented_verbatim  \n",
       "0                                [ok]  \n",
       "1                        [absolument]  \n",
       "2  [ah, oui, ça, bien, ça, comme, ça]  \n",
       "3                             [aller]  \n",
       "4                [allez, bon, $time$]  \n",
       "5                   [alors, ça, bien]  "
      ]
     },
     "execution_count": 51,
     "metadata": {},
     "output_type": "execute_result"
    }
   ],
   "source": [
    "df.head(6)"
   ]
  },
  {
   "cell_type": "markdown",
   "metadata": {
    "id": "p_HXxdXlHtzc"
   },
   "source": [
    "- **(4)** The fourth step is **Stemming** that normalizes words by retaining only their roots. By eliminating plurals, conjugations, etc., you reduce noise while preserving the original meaning. `nltk` package offers a french-based algorithm that automatically extracts the root of each word: "
   ]
  },
  {
   "cell_type": "code",
   "execution_count": 52,
   "metadata": {
    "id": "djE1S3NKHtzc"
   },
   "outputs": [],
   "source": [
    "from nltk.stem.snowball import SnowballStemmer\n",
    "\n",
    "def word_stemmer(words):\n",
    "    snowball = SnowballStemmer('french') #\n",
    "    preprocessed_text = [snowball.stem(word) for word in words]\n",
    "    return preprocessed_text\n",
    "\n",
    "# Extract roots from the verbatim word \n",
    "df['segmented_verbatim_root'] = df['segmented_verbatim'].apply(word_stemmer)"
   ]
  },
  {
   "cell_type": "code",
   "execution_count": 53,
   "metadata": {
    "colab": {
     "base_uri": "https://localhost:8080/",
     "height": 143
    },
    "id": "N_RVeyxrHtzc",
    "outputId": "230789d5-ded7-4e7e-c5a4-4b93ab368391",
    "scrolled": true
   },
   "outputs": [
    {
     "data": {
      "text/html": [
       "<div>\n",
       "<style scoped>\n",
       "    .dataframe tbody tr th:only-of-type {\n",
       "        vertical-align: middle;\n",
       "    }\n",
       "\n",
       "    .dataframe tbody tr th {\n",
       "        vertical-align: top;\n",
       "    }\n",
       "\n",
       "    .dataframe thead th {\n",
       "        text-align: right;\n",
       "    }\n",
       "</style>\n",
       "<table border=\"1\" class=\"dataframe\">\n",
       "  <thead>\n",
       "    <tr style=\"text-align: right;\">\n",
       "      <th></th>\n",
       "      <th>intent</th>\n",
       "      <th>verbatim</th>\n",
       "      <th>segmented_verbatim</th>\n",
       "      <th>segmented_verbatim_root</th>\n",
       "    </tr>\n",
       "  </thead>\n",
       "  <tbody>\n",
       "    <tr>\n",
       "      <th>0</th>\n",
       "      <td>Confirm</td>\n",
       "      <td>ok</td>\n",
       "      <td>[ok]</td>\n",
       "      <td>[ok]</td>\n",
       "    </tr>\n",
       "    <tr>\n",
       "      <th>1</th>\n",
       "      <td>Confirm</td>\n",
       "      <td>absolument</td>\n",
       "      <td>[absolument]</td>\n",
       "      <td>[absolu]</td>\n",
       "    </tr>\n",
       "    <tr>\n",
       "      <th>2</th>\n",
       "      <td>Confirm</td>\n",
       "      <td>ah oui ça c est bien ça comme ça</td>\n",
       "      <td>[ah, oui, ça, bien, ça, comme, ça]</td>\n",
       "      <td>[ah, oui, ça, bien, ça, comm, ça]</td>\n",
       "    </tr>\n",
       "    <tr>\n",
       "      <th>3</th>\n",
       "      <td>Confirm</td>\n",
       "      <td>aller</td>\n",
       "      <td>[aller]</td>\n",
       "      <td>[aller]</td>\n",
       "    </tr>\n",
       "    <tr>\n",
       "      <th>4</th>\n",
       "      <td>Confirm</td>\n",
       "      <td>allez c est bon pour $time$</td>\n",
       "      <td>[allez, bon, $time$]</td>\n",
       "      <td>[allez, bon, $time$]</td>\n",
       "    </tr>\n",
       "    <tr>\n",
       "      <th>5</th>\n",
       "      <td>Confirm</td>\n",
       "      <td>alors ça c est bien</td>\n",
       "      <td>[alors, ça, bien]</td>\n",
       "      <td>[alor, ça, bien]</td>\n",
       "    </tr>\n",
       "    <tr>\n",
       "      <th>6</th>\n",
       "      <td>Confirm</td>\n",
       "      <td>bah oui voila</td>\n",
       "      <td>[bah, oui, voila]</td>\n",
       "      <td>[bah, oui, voil]</td>\n",
       "    </tr>\n",
       "    <tr>\n",
       "      <th>7</th>\n",
       "      <td>Confirm</td>\n",
       "      <td>ben oui si il y a que ça</td>\n",
       "      <td>[ben, oui, si, a, ça]</td>\n",
       "      <td>[ben, oui, si, a, ça]</td>\n",
       "    </tr>\n",
       "    <tr>\n",
       "      <th>8</th>\n",
       "      <td>Confirm</td>\n",
       "      <td>bon bah oui</td>\n",
       "      <td>[bon, bah, oui]</td>\n",
       "      <td>[bon, bah, oui]</td>\n",
       "    </tr>\n",
       "    <tr>\n",
       "      <th>9</th>\n",
       "      <td>Confirm</td>\n",
       "      <td>bon d accord</td>\n",
       "      <td>[bon, accord]</td>\n",
       "      <td>[bon, accord]</td>\n",
       "    </tr>\n",
       "  </tbody>\n",
       "</table>\n",
       "</div>"
      ],
      "text/plain": [
       "    intent                          verbatim  \\\n",
       "0  Confirm                                ok   \n",
       "1  Confirm                        absolument   \n",
       "2  Confirm  ah oui ça c est bien ça comme ça   \n",
       "3  Confirm                             aller   \n",
       "4  Confirm       allez c est bon pour $time$   \n",
       "5  Confirm               alors ça c est bien   \n",
       "6  Confirm                     bah oui voila   \n",
       "7  Confirm          ben oui si il y a que ça   \n",
       "8  Confirm                       bon bah oui   \n",
       "9  Confirm                      bon d accord   \n",
       "\n",
       "                   segmented_verbatim            segmented_verbatim_root  \n",
       "0                                [ok]                               [ok]  \n",
       "1                        [absolument]                           [absolu]  \n",
       "2  [ah, oui, ça, bien, ça, comme, ça]  [ah, oui, ça, bien, ça, comm, ça]  \n",
       "3                             [aller]                            [aller]  \n",
       "4                [allez, bon, $time$]               [allez, bon, $time$]  \n",
       "5                   [alors, ça, bien]                   [alor, ça, bien]  \n",
       "6                   [bah, oui, voila]                   [bah, oui, voil]  \n",
       "7               [ben, oui, si, a, ça]              [ben, oui, si, a, ça]  \n",
       "8                     [bon, bah, oui]                    [bon, bah, oui]  \n",
       "9                       [bon, accord]                      [bon, accord]  "
      ]
     },
     "execution_count": 53,
     "metadata": {},
     "output_type": "execute_result"
    }
   ],
   "source": [
    "df.head(10)"
   ]
  },
  {
   "cell_type": "markdown",
   "metadata": {
    "id": "U5Cs7EVOHtzd"
   },
   "source": [
    "## III. Vectorized representation of the verbatims"
   ]
  },
  {
   "cell_type": "markdown",
   "metadata": {
    "id": "EJ8CdM47Htzd"
   },
   "source": [
    "Most Machine Learning techniques work on vector data with numerical values. The step that consists in transforming the words of the verbatims and the verbatims themselves into vectors is therefore fundamental. \n",
    "\n",
    "In what follows, we will highlight different ways, from the least sophisticated to the most sophisticated one, to perform this vectorization step."
   ]
  },
  {
   "cell_type": "markdown",
   "metadata": {
    "id": "zPBhrMVkHtzd"
   },
   "source": [
    "### Bag of words representation"
   ]
  },
  {
   "cell_type": "markdown",
   "metadata": {
    "id": "rIqeteWFHtzd"
   },
   "source": [
    "- The simplest method to vectorize a verbatims is based on counting the number of occurrences of each word.\n",
    "\n",
    "\n",
    "- More precisely, we consider the set of words appearing in the database, which we call *dictionary* and note as $\\mathcal{D} = (w_j)$, where $w_j$ is the j-th word of the dictionary. Afterward, we encode each verbatim as a vector, where the non-zero entries correspond to the index of the words and the values to their frequencies.\n",
    "\n",
    "\n",
    "- Example: Let's take as an example the following verbatim ``ok ben oui ça ira``. It is composed by the following words:\n",
    "\n",
    "\n",
    " <center>$w_{109}$=\"ok\" ||  $w_{144}$=\"ben\" ||  $w_{128}$=\"oui\" || $w_{135}$=\"ça\" || $w_{195}$=\"ira\"</center>\n",
    "\n",
    "\n",
    "    ==> The corresponding representation of the verbatim is a vector of integers of length 265 (the total number of unique words): [0, 0 ,...., 1, ....0]; All values are zeros but the ones related to indices `109`, `144`, `128`, `135` and `195`. \n",
    "\n",
    "- **Bag of Words**:  consists of applying this transformation to the whole set of verbatims allow us to define the representation matrix $M=(m_{ij})$,where the $m_{i,j}$ entry corresponds to the occurence of word $w_j$ within the `i-th` verbatim.  \n",
    "\n",
    "\n",
    "\n",
    "\n"
   ]
  },
  {
   "cell_type": "code",
   "execution_count": 54,
   "metadata": {
    "id": "Mq_3leyWHtzd"
   },
   "outputs": [],
   "source": [
    "import collections\n",
    "import numpy as np\n",
    "np.random.seed(4)\n",
    "def count_words(texts):\n",
    "    \"\"\"Vectorize the text : return count of each word in the text snippets\n",
    "        \n",
    "        Parameters\n",
    "        ----------\n",
    "            texts: List[strings] \n",
    "                The list of texts, where each text is represented as a sequence of words. \n",
    "        \n",
    "        Returns\n",
    "        -------\n",
    "            vocabulary : dict\n",
    "                A dictionary that points to an index in counts for each word.\n",
    "        \n",
    "            counts : ndarray, shape (n_samples, n_features)\n",
    "                Convert each word in the text to its corresponding frequency\n",
    "        \n",
    "        We note that: \n",
    "            n_samples refers to the number of documents.\n",
    "        \n",
    "            n_features refers to the number of unique words in vocabulary.\n",
    "    \"\"\"\n",
    "    # Create the list of unique words : \n",
    "    unique_words = set([val for t in texts for val in t])  \n",
    "    \n",
    "    n = len(unique_words)\n",
    "    \n",
    "    # Instantiate the vocabulary of words\n",
    "    vocabulary = dict(zip(unique_words, range(n)))\n",
    "    \n",
    "    # Create the bag of word representation for each document\n",
    "    bagofwords = [collections.Counter(text) for text in texts]\n",
    "    \n",
    "    \n",
    "    cardinality = len(texts)\n",
    "    \n",
    "    #Create the ndarray counts : \n",
    "    count = np.zeros((cardinality, n))\n",
    "\n",
    "    for i in range(cardinality):\n",
    "        count[i] = [bagofwords[i][x] for x in unique_words]\n",
    "        \n",
    "    return vocabulary, count"
   ]
  },
  {
   "cell_type": "code",
   "execution_count": 55,
   "metadata": {
    "colab": {
     "base_uri": "https://localhost:8080/"
    },
    "id": "8DD4c6pfHtzd",
    "outputId": "b6bc0483-2dd4-4b40-a935-b202f17d2136"
   },
   "outputs": [
    {
     "data": {
      "text/plain": [
       "(227, (800, 227))"
      ]
     },
     "execution_count": 55,
     "metadata": {},
     "output_type": "execute_result"
    }
   ],
   "source": [
    "vocabulary, count_matrix = count_words(df['segmented_verbatim_root'])\n",
    "len(vocabulary), count_matrix.shape"
   ]
  },
  {
   "cell_type": "code",
   "execution_count": 56,
   "metadata": {
    "id": "-9iGTzBhHtzd",
    "scrolled": true
   },
   "outputs": [
    {
     "data": {
      "text/plain": [
       "{'sais': 0,\n",
       " 'fais': 1,\n",
       " 'pris': 2,\n",
       " 'ok': 3,\n",
       " 'impossibl': 4,\n",
       " 'bah': 5,\n",
       " 'mal': 6,\n",
       " 'va': 7,\n",
       " 'docteur': 8,\n",
       " 'jour': 9,\n",
       " 'car': 10,\n",
       " 'delaplac': 11,\n",
       " 'mieux': 12,\n",
       " 'obten': 13,\n",
       " 'ben': 14,\n",
       " 'rend': 15,\n",
       " 'sor': 16,\n",
       " 'sup': 17,\n",
       " 'martin': 18,\n",
       " 'revien': 19,\n",
       " 'ah': 20,\n",
       " 'alor': 21,\n",
       " 'dans': 22,\n",
       " 'reprend': 23,\n",
       " 'don': 24,\n",
       " 'humain': 25,\n",
       " 'absolu': 26,\n",
       " 'voilà': 27,\n",
       " 'tres': 28,\n",
       " 'vacanc': 29,\n",
       " 'désol': 30,\n",
       " 'échograph': 31,\n",
       " 'hasard': 32,\n",
       " 'irai': 33,\n",
       " 'chez': 34,\n",
       " 'visit': 35,\n",
       " 'attend': 36,\n",
       " 'ajout': 37,\n",
       " 'voir': 38,\n",
       " 'disponibl': 39,\n",
       " 'hein': 40,\n",
       " 'picard': 41,\n",
       " 'madam': 42,\n",
       " 'bon': 43,\n",
       " 'rien': 44,\n",
       " 'okay': 45,\n",
       " 'tim': 46,\n",
       " 'ça': 47,\n",
       " 'truc': 48,\n",
       " 'nouveau': 49,\n",
       " 'arrang': 50,\n",
       " 'mid': 51,\n",
       " 'uniqu': 52,\n",
       " 'oui': 53,\n",
       " 'jam': 54,\n",
       " 'journ': 55,\n",
       " 'tromp': 56,\n",
       " 'pens': 57,\n",
       " 'souhait': 58,\n",
       " 'relat': 59,\n",
       " 'tout': 60,\n",
       " 'piscin': 61,\n",
       " 'libr': 62,\n",
       " 'consult': 63,\n",
       " 'horair': 64,\n",
       " 'vas': 65,\n",
       " 'créneau': 66,\n",
       " 'mis': 67,\n",
       " 'pass': 68,\n",
       " 'envoi': 69,\n",
       " 'secrétariat': 70,\n",
       " 'quelqu': 71,\n",
       " 'peu': 72,\n",
       " 'plus': 73,\n",
       " 'là': 74,\n",
       " 'dam': 75,\n",
       " 'vrai': 76,\n",
       " 'cherch': 77,\n",
       " 'ven': 78,\n",
       " 'ouvert': 79,\n",
       " 'voil': 80,\n",
       " 'secrétair': 81,\n",
       " 'préfer': 82,\n",
       " 'serv': 83,\n",
       " 'parf': 84,\n",
       " 'tôt': 85,\n",
       " 'ver': 86,\n",
       " 'encor': 87,\n",
       " 'savoir': 88,\n",
       " 'amour': 89,\n",
       " 'quand': 90,\n",
       " 'monsieur': 91,\n",
       " 'fois': 92,\n",
       " 'puisqu': 93,\n",
       " 'propos': 94,\n",
       " 'hi': 95,\n",
       " 'avoir': 96,\n",
       " 'essay': 97,\n",
       " 'convient': 98,\n",
       " 'sûr': 99,\n",
       " 'serveur': 100,\n",
       " 'trop': 101,\n",
       " 'appel': 102,\n",
       " '15h': 103,\n",
       " 'saoul': 104,\n",
       " 'comm': 105,\n",
       " 'cibl': 106,\n",
       " 'transfer': 107,\n",
       " 'voudr': 108,\n",
       " 'beaucoup': 109,\n",
       " 'urgenc': 110,\n",
       " 'quel': 111,\n",
       " 'vien': 112,\n",
       " 'ni': 113,\n",
       " 'pourr': 114,\n",
       " 'compren': 115,\n",
       " 'compétent': 116,\n",
       " 'nom': 117,\n",
       " 'pe': 118,\n",
       " 'annonc': 119,\n",
       " 'possibl': 120,\n",
       " 'peux': 121,\n",
       " 'dos': 122,\n",
       " 'plait': 123,\n",
       " 'bonjour': 124,\n",
       " 'vit': 125,\n",
       " 'contrôl': 126,\n",
       " 'risqu': 127,\n",
       " 'doc': 128,\n",
       " 'chos': 129,\n",
       " 'fait': 130,\n",
       " 'enfait': 131,\n",
       " 'jacqu': 132,\n",
       " 'non': 133,\n",
       " 'plutôt': 134,\n",
       " 'reven': 135,\n",
       " 'ca': 136,\n",
       " 'aut': 137,\n",
       " 'voul': 138,\n",
       " 'plag': 139,\n",
       " 'être': 140,\n",
       " 'demand': 141,\n",
       " 'idéal': 142,\n",
       " 'dem': 143,\n",
       " 'autour': 144,\n",
       " 'allez': 145,\n",
       " 'prendr': 146,\n",
       " 'iphon': 147,\n",
       " 'des': 148,\n",
       " 'cabinet': 149,\n",
       " 'parl': 150,\n",
       " 'ouais': 151,\n",
       " 'revoir': 152,\n",
       " 'dit': 153,\n",
       " 'march': 154,\n",
       " 'esprit': 155,\n",
       " 'nan': 156,\n",
       " 'vais': 157,\n",
       " 'malad': 158,\n",
       " 'ira': 159,\n",
       " '$number$': 160,\n",
       " 'choix': 161,\n",
       " 'occup': 162,\n",
       " 'confirm': 163,\n",
       " 'voulu': 164,\n",
       " 'confianc': 165,\n",
       " 'euh': 166,\n",
       " 'dis': 167,\n",
       " 'supplay': 168,\n",
       " 'final': 169,\n",
       " 'faut': 170,\n",
       " 'travail': 171,\n",
       " 'enfin': 172,\n",
       " 'fair': 173,\n",
       " 'accessibl': 174,\n",
       " 'jouon': 175,\n",
       " 'merc': 176,\n",
       " 'class': 177,\n",
       " 'a': 178,\n",
       " 'aim': 179,\n",
       " 'signif': 180,\n",
       " 'pouv': 181,\n",
       " 'cas': 182,\n",
       " 'regard': 183,\n",
       " 'accord': 184,\n",
       " 'remerc': 185,\n",
       " 'auss': 186,\n",
       " 'féri': 187,\n",
       " 'si': 188,\n",
       " 'u': 189,\n",
       " 'glac': 190,\n",
       " 'aller': 191,\n",
       " 'plac': 192,\n",
       " 'médecin': 193,\n",
       " 'réserv': 194,\n",
       " 'envi': 195,\n",
       " 'arriv': 196,\n",
       " 'autr': 197,\n",
       " 'mois': 198,\n",
       " 'peur': 199,\n",
       " 'trouv': 200,\n",
       " 'ya': 201,\n",
       " 'possibil': 202,\n",
       " 'parc': 203,\n",
       " 'prochain': 204,\n",
       " 'contr': 205,\n",
       " 'durand': 206,\n",
       " 'entendu': 207,\n",
       " 'petit': 208,\n",
       " 'répondr': 209,\n",
       " 'veux': 210,\n",
       " 'dois': 211,\n",
       " 'essai': 212,\n",
       " 'plaît': 213,\n",
       " 'part': 214,\n",
       " 'dir': 215,\n",
       " 'robot': 216,\n",
       " 'apres': 217,\n",
       " '$time$': 218,\n",
       " 'besoin': 219,\n",
       " 'quoi': 220,\n",
       " 'just': 221,\n",
       " 'person': 222,\n",
       " 'bien': 223,\n",
       " 'prend': 224,\n",
       " 'seul': 225,\n",
       " 'tard': 226}"
      ]
     },
     "execution_count": 56,
     "metadata": {},
     "output_type": "execute_result"
    }
   ],
   "source": [
    "vocabulary"
   ]
  },
  {
   "cell_type": "markdown",
   "metadata": {
    "id": "z6aBwHwsHtze"
   },
   "source": [
    "The `vocabulary` represents the set of all possible words (265), i.e. the dictionary and `count_matrix` corresponds to the `Bag of Words` matrix grouping the numerical representation of verbatims."
   ]
  },
  {
   "cell_type": "markdown",
   "metadata": {
    "id": "7PN6LOpaHtze"
   },
   "source": [
    "#### Filter out rare and very frequent words "
   ]
  },
  {
   "cell_type": "markdown",
   "metadata": {
    "id": "I-coLsuXHtze"
   },
   "source": [
    "We may also want to filter out words that are too rare or too frequent: \n",
    "\n",
    "    - A  rare word will not bring any information on the intention because it will not have been observed enough to be significantly associated with an intention.\n",
    "    \n",
    "    - A  frequent word may not be informative either because it appears everywhere (~empty word). \n",
    "\n",
    "The ``CountVectorizer`` function provided by the `sklearn` package offers this filter option. "
   ]
  },
  {
   "cell_type": "code",
   "execution_count": 57,
   "metadata": {
    "id": "LYZRz_7IHtze"
   },
   "outputs": [],
   "source": [
    "from sklearn.feature_extraction.text import CountVectorizer\n",
    "def count_words_filter(texts, max_df,min_df):\n",
    "    \"\"\"Vectorize text : return count of each word in the text snippets\n",
    "    Parameters\n",
    "    ----------\n",
    "    texts : list of str\n",
    "        The texts (documents)\n",
    "    max_df : eliminate the words with a relative frequency higher than max_df (to eliminate frequent terms)\n",
    "    min_df : eliminate the words with a relative frequency less than min_df (to eliminate the rare words)\n",
    "\n",
    "    Returns\n",
    "    -------\n",
    "    vocabulary : array that contains the list of words.\n",
    "    counts : ndarray, shape (n_samples, n_features) : sparse matrix \n",
    "        The counts of each word in each text.\n",
    "        n_samples == number of documents.\n",
    "        n_features == number of words in vocabulary.\n",
    "    \"\"\"\n",
    "    #texts = map(clean_text,texts)  #----if the text is not already cleaned \n",
    "    vectorizer = CountVectorizer(max_df=max_df, min_df=min_df, analyzer=lambda x: x)\n",
    "    counts = vectorizer.fit_transform(texts)\n",
    "    vocabulary = vectorizer.get_feature_names_out()\n",
    "    return  vocabulary,counts"
   ]
  },
  {
   "cell_type": "code",
   "execution_count": 58,
   "metadata": {
    "colab": {
     "base_uri": "https://localhost:8080/"
    },
    "id": "BWhl_HJGHtze",
    "outputId": "51597d98-b198-4999-ea32-8999dbaaf815",
    "scrolled": true
   },
   "outputs": [
    {
     "data": {
      "text/plain": [
       "(97, (800, 97))"
      ]
     },
     "execution_count": 58,
     "metadata": {},
     "output_type": "execute_result"
    }
   ],
   "source": [
    "min_freq = 3/800\n",
    "max_freq = 0.4\n",
    "filtered_vocabulary, filtered_count_matrix = count_words_filter(df['segmented_verbatim_root'], max_freq, min_freq )\n",
    "len(filtered_vocabulary), filtered_count_matrix.shape"
   ]
  },
  {
   "cell_type": "markdown",
   "metadata": {
    "id": "G-xGRRVpHtzf"
   },
   "source": [
    "### Vector representation based on the words co-occurence "
   ]
  },
  {
   "cell_type": "markdown",
   "metadata": {
    "id": "8xpvg5ZLHtzf"
   },
   "source": [
    "\n",
    "- Unlike the Bag of Words representation defined above which is based on the \"word-verbatim\" relation, we will define a co-occurrence matrix of size n x n (where n represents the size of the dictionary).\n",
    "\n",
    "\n",
    "- In this method, we fix a context window $w$. Then for each word in the database we will compute the number of occurrences of the neighboring words (i.e., words that appear in the same window). The resulting matrix\n",
    "$$C = (c_{jk})$$ represents the frequency of the word $k$ in the neighborhood of the word $j$ (we do not go into the details of the frequency computation which involves a ponderation term based on how far the word $k$ is to word $j$)\n"
   ]
  },
  {
   "cell_type": "markdown",
   "metadata": {
    "id": "7FXYAXpYHtzf"
   },
   "source": [
    "- To build shuch matrix we will use the package `scipy` that is optimization for all matrix operations"
   ]
  },
  {
   "cell_type": "code",
   "execution_count": 59,
   "metadata": {
    "id": "cnUlM13GHtzf"
   },
   "outputs": [],
   "source": [
    "import scipy\n",
    "def build_cooccur(vocab, corpus, window_size=10, min_count=None):\n",
    "    \"\"\"\n",
    "    Build the co-occurence matrix \n",
    "    Patamers: \n",
    "    --------\n",
    "        vocab : dictionnary that contains all the words present in the database \n",
    "        corpus : list of tokenized verbatim\n",
    "        window_size : the size of the context window \n",
    "        min_count : frquency threshold to eliminate rare words. \n",
    "    \"\"\"\n",
    "    \n",
    "    vocab_size = len(vocab)\n",
    "    \n",
    "    # Collect cooccurrences internally as a sparse matrix forindexing speed;\n",
    "    cooccurrences = scipy.sparse.lil_matrix((vocab_size, vocab_size),\n",
    "                                      dtype=np.float64)\n",
    "    #Construct word vectors\n",
    "    for tokens in corpus:\n",
    "        toknbs = len(tokens)\n",
    "        token_ids = [vocab[word] for word in tokens]\n",
    "        for i in range(toknbs):\n",
    "            \n",
    "            for j in range(1,window_size + 1):\n",
    "                increment = 1. / j\n",
    "                if (i+j < toknbs):\n",
    "                    cooccurrences[token_ids[i], token_ids[i+j]] += increment\n",
    "                    cooccurrences[token_ids[i+j], token_ids[i]] += increment\n",
    "                if (i-j >=0):\n",
    "                    cooccurrences[token_ids[i], token_ids[i-j]] += increment\n",
    "                    cooccurrences[token_ids[i-j], token_ids[i]] += increment\n",
    "                \n",
    "    return cooccurrences"
   ]
  },
  {
   "cell_type": "code",
   "execution_count": 60,
   "metadata": {
    "colab": {
     "base_uri": "https://localhost:8080/"
    },
    "id": "e9xqRjH1Htzf",
    "outputId": "46fd4e99-2f12-4224-8a00-0da0637a68c9"
   },
   "outputs": [
    {
     "data": {
      "text/plain": [
       "<List of Lists sparse matrix of dtype 'float64'\n",
       "\twith 2010 stored elements and shape (227, 227)>"
      ]
     },
     "execution_count": 60,
     "metadata": {},
     "output_type": "execute_result"
    }
   ],
   "source": [
    "cooccurence = build_cooccur(vocabulary, df['segmented_verbatim_root'], window_size=3, min_count=2)\n",
    "cooccurence"
   ]
  },
  {
   "cell_type": "markdown",
   "metadata": {
    "id": "rqD3VA-UHtzf"
   },
   "source": [
    "- Let's take the example of the two words `dame` and `petite`:"
   ]
  },
  {
   "cell_type": "code",
   "execution_count": 61,
   "metadata": {
    "colab": {
     "base_uri": "https://localhost:8080/"
    },
    "id": "E6Ldtv1mHtzf",
    "outputId": "4ea46081-31d5-418f-f29e-7924a5fdb730"
   },
   "outputs": [
    {
     "data": {
      "text/plain": [
       "2.0"
      ]
     },
     "execution_count": 61,
     "metadata": {},
     "output_type": "execute_result"
    }
   ],
   "source": [
    "cooccurence[vocabulary['dam'], vocabulary['petit']]"
   ]
  },
  {
   "cell_type": "markdown",
   "metadata": {
    "id": "jMgdU8KBHtzg"
   },
   "source": [
    "- `2` means that the words `dame` and `petites` co-occurs in average within a distance of 2 positions.  "
   ]
  },
  {
   "cell_type": "markdown",
   "metadata": {
    "id": "_qc0VmOHHtzg"
   },
   "source": [
    "- Generate the words representation vectors"
   ]
  },
  {
   "cell_type": "markdown",
   "metadata": {
    "id": "ZQ7a-Y22Htzg"
   },
   "source": [
    "###  [Advanced] Deep Learning-Based representation:  Word2Vec"
   ]
  },
  {
   "cell_type": "markdown",
   "metadata": {
    "id": "dAjrE3yUHtzg"
   },
   "source": [
    "- Instead of building the co-occurrence matrix and learn to compress the information using Glove, we will create a predictive model trained to learn to represent the words in our database. The basic idea of the Word2Vec model (Continuous Bag of Word variant) is to use a shallow neural network to predict a central work given all surrounding context. \n",
    "- The resulting representation contains the syntax and semantic information of each word such as similar words will have close vectors. "
   ]
  },
  {
   "cell_type": "markdown",
   "metadata": {
    "id": "2kd0JZ7IHtzg"
   },
   "source": [
    "![word_to_vec.png](data:image/png;base64,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)"
   ]
  },
  {
   "cell_type": "markdown",
   "metadata": {
    "collapsed": true,
    "id": "-uDdlkP9Htzh"
   },
   "source": [
    "Train word2vec using the verbatims text:"
   ]
  },
  {
   "cell_type": "code",
   "execution_count": 62,
   "metadata": {
    "colab": {
     "base_uri": "https://localhost:8080/"
    },
    "id": "7RdtAzo4Htzh",
    "outputId": "9d7bdd05-0c7d-4ad6-91d9-47e0e2d1ee18"
   },
   "outputs": [
    {
     "ename": "ModuleNotFoundError",
     "evalue": "No module named 'gensim'",
     "output_type": "error",
     "traceback": [
      "\u001b[1;31m---------------------------------------------------------------------------\u001b[0m",
      "\u001b[1;31mModuleNotFoundError\u001b[0m                       Traceback (most recent call last)",
      "Cell \u001b[1;32mIn[62], line 1\u001b[0m\n\u001b[1;32m----> 1\u001b[0m \u001b[38;5;28;01mfrom\u001b[39;00m \u001b[38;5;21;01mgensim\u001b[39;00m\u001b[38;5;21;01m.\u001b[39;00m\u001b[38;5;21;01mmodels\u001b[39;00m \u001b[38;5;28;01mimport\u001b[39;00m word2vec\n\u001b[0;32m      2\u001b[0m \u001b[38;5;28;01mimport\u001b[39;00m \u001b[38;5;21;01mlogging\u001b[39;00m\n\u001b[0;32m      3\u001b[0m logging\u001b[38;5;241m.\u001b[39mbasicConfig(\u001b[38;5;28mformat\u001b[39m\u001b[38;5;241m=\u001b[39m\u001b[38;5;124m'\u001b[39m\u001b[38;5;132;01m%(asctime)s\u001b[39;00m\u001b[38;5;124m : \u001b[39m\u001b[38;5;132;01m%(levelname)s\u001b[39;00m\u001b[38;5;124m : \u001b[39m\u001b[38;5;132;01m%(message)s\u001b[39;00m\u001b[38;5;124m'\u001b[39m, level\u001b[38;5;241m=\u001b[39mlogging\u001b[38;5;241m.\u001b[39mINFO)\n",
      "\u001b[1;31mModuleNotFoundError\u001b[0m: No module named 'gensim'"
     ]
    }
   ],
   "source": [
    "from gensim.models import word2vec\n",
    "import logging\n",
    "logging.basicConfig(format='%(asctime)s : %(levelname)s : %(message)s', level=logging.INFO)\n",
    "# Set values for various parameters\n",
    "num_features = 265    # Word vector dimensionality                      \n",
    "min_word_count = 1   # Minimum word count                        \n",
    "num_workers = 1       # Number of threads to run in parallel\n",
    "context = 2         # Context window size                                                                                    \n",
    "downsampling = 1e-3   # Downsample setting for frequent words\n",
    "model_w2v = word2vec.Word2Vec(df['segmented_verbatim_root'].values, workers=num_workers, vector_size=num_features,\n",
    "                          min_count = min_word_count, window = context, sample = downsampling)"
   ]
  },
  {
   "cell_type": "code",
   "execution_count": null,
   "metadata": {
    "colab": {
     "base_uri": "https://localhost:8080/"
    },
    "id": "eLIoqy_MHtzh",
    "outputId": "155a5da7-9b1d-4e9d-c970-922b606bf08a"
   },
   "outputs": [
    {
     "name": "stderr",
     "output_type": "stream",
     "text": [
      "2024-07-06 15:14:05,317 : WARNING : destructive init_sims(replace=True) deprecated & no longer required for space-efficiency\n"
     ]
    }
   ],
   "source": [
    "model_w2v.init_sims(replace=True)"
   ]
  },
  {
   "cell_type": "markdown",
   "metadata": {
    "id": "tluI-QzaHtzh"
   },
   "source": [
    "Visualize the vector representation of the word `dame`"
   ]
  },
  {
   "cell_type": "code",
   "execution_count": null,
   "metadata": {
    "colab": {
     "base_uri": "https://localhost:8080/"
    },
    "id": "pW38x_NsHtzh",
    "outputId": "db295790-1157-46ba-8ff2-74bc2ac68aaa",
    "scrolled": true
   },
   "outputs": [
    {
     "data": {
      "text/plain": [
       "array([ 3.97131182e-02, -8.41231346e-02, -4.03604954e-02,  9.11917686e-02,\n",
       "       -2.98094400e-03,  9.54267532e-02,  9.15641040e-02, -2.18549725e-02,\n",
       "       -1.49892904e-02,  4.87689041e-02,  7.63601437e-02,  1.08687565e-01,\n",
       "        6.87516853e-02, -3.80151868e-02, -7.20075667e-02, -6.94709942e-02,\n",
       "        2.42776610e-02, -5.80891408e-02, -3.23809497e-02, -8.48593377e-03,\n",
       "        5.59974238e-02,  7.99627528e-02,  5.66032343e-02, -2.07975246e-02,\n",
       "       -1.14075929e-01, -1.35684572e-02,  7.51154497e-02, -6.95128664e-02,\n",
       "        7.94869736e-02,  1.52961360e-02,  2.50406265e-02, -2.97609773e-02,\n",
       "       -1.30312014e-02,  2.71620080e-02,  3.07566989e-02,  6.62921295e-02,\n",
       "       -8.46243054e-02, -2.67700781e-03,  1.08468942e-01,  7.10406974e-02,\n",
       "       -6.01702929e-02,  3.80731896e-02, -1.60645321e-02,  5.81581146e-02,\n",
       "        3.15206964e-03,  3.74664739e-02, -6.16533905e-02, -6.15138300e-02,\n",
       "        5.26980907e-02, -6.57389536e-02,  2.06739772e-02,  9.44322050e-02,\n",
       "        5.07578291e-02,  4.19358760e-02, -5.00846654e-02,  5.42643890e-02,\n",
       "       -7.91350901e-02,  8.39956775e-02,  7.64636695e-02, -7.04633519e-02,\n",
       "        2.45512351e-02, -2.81827189e-02,  8.31227377e-02, -2.41472349e-02,\n",
       "       -7.42242783e-02, -6.82723671e-02,  8.15062877e-03,  9.41780657e-02,\n",
       "       -3.33568733e-03, -5.78950830e-02,  4.46468070e-02, -5.56031615e-02,\n",
       "        8.23769942e-02, -5.17590903e-02, -3.39105874e-02, -9.37149078e-02,\n",
       "        6.93287654e-03, -3.98401618e-02,  6.24357201e-02,  7.18129128e-02,\n",
       "        1.46375727e-02,  6.82002455e-02, -1.34105766e-02,  5.76520376e-02,\n",
       "        8.12366381e-02, -9.38171893e-02,  8.95971805e-02,  9.10803452e-02,\n",
       "       -1.90165397e-02,  3.58708315e-02, -3.55474316e-02, -5.07099107e-02,\n",
       "       -1.01044275e-01, -9.80385840e-02, -7.25175068e-02,  2.15759091e-02,\n",
       "       -5.35568818e-02,  2.09873654e-02, -8.94236863e-02,  4.47092345e-03,\n",
       "       -7.24262744e-02,  2.72765253e-02, -6.38642386e-02, -6.89444840e-02,\n",
       "       -1.05169520e-01,  2.31582895e-02, -3.98585759e-02,  1.02392428e-01,\n",
       "       -5.51186539e-02,  4.09255847e-02,  4.07708809e-02,  3.84703986e-02,\n",
       "       -5.58292456e-02, -1.04761966e-01,  3.16649824e-02, -8.02817047e-02,\n",
       "       -8.14484730e-02,  6.14126250e-02,  1.47939473e-02,  4.71904278e-02,\n",
       "       -7.51862004e-02, -1.04250640e-01,  1.51638594e-02, -9.81565379e-03,\n",
       "       -7.95762241e-02, -6.41574338e-02, -3.71820964e-02, -9.86404717e-02,\n",
       "       -8.25174898e-02, -1.03972918e-04, -7.76500478e-02, -9.23021808e-02,\n",
       "       -1.04168259e-01,  9.33105405e-03,  2.65092533e-02,  5.59324957e-02,\n",
       "       -2.96701901e-02,  8.12536329e-02, -2.63555571e-02,  5.38221747e-02,\n",
       "       -3.42793614e-02,  9.88536999e-02, -1.24206161e-02, -9.73755214e-03,\n",
       "       -5.52726574e-02,  4.81497757e-02, -7.14115873e-02,  1.08632455e-02,\n",
       "        4.73801456e-02, -9.25705060e-02, -8.20920765e-02,  7.77137801e-02,\n",
       "        7.77532533e-02, -2.85260472e-03,  3.34672704e-02, -2.74215825e-03,\n",
       "       -1.68548115e-02,  2.64652986e-02,  4.64493129e-03, -7.00973272e-02,\n",
       "        1.10838115e-02, -2.22749487e-02, -9.03858468e-02,  4.35161106e-02,\n",
       "        1.50065124e-02, -6.26773387e-02, -8.03423971e-02, -3.10794474e-03,\n",
       "        6.82178736e-02,  2.37429738e-02,  2.87454366e-03, -4.30838577e-02,\n",
       "       -3.57988514e-02, -5.15929088e-02, -6.73047900e-02,  8.32771435e-02,\n",
       "       -3.61966938e-02,  1.00074559e-02,  6.97300136e-02,  8.49822313e-02,\n",
       "       -4.30710353e-02,  1.22750050e-03, -7.69335553e-02, -3.75440978e-02,\n",
       "       -7.74424225e-02, -2.23791394e-02,  6.83786944e-02,  5.44657633e-02,\n",
       "        2.86341067e-02, -6.53898343e-02,  5.99570423e-02, -1.12626906e-02,\n",
       "       -8.49743485e-02, -8.63167737e-03,  7.20626023e-03,  8.69345665e-02,\n",
       "       -7.33664557e-02, -7.20484927e-02, -9.42932814e-02,  5.56187034e-02,\n",
       "        2.77095716e-02, -7.31771216e-02,  7.12643415e-02,  4.23390837e-03,\n",
       "        2.46263053e-02, -7.40896314e-02,  1.91386640e-02, -1.06558979e-01,\n",
       "       -1.01930015e-01,  8.23830739e-02,  9.12892073e-03, -5.27418554e-02,\n",
       "       -6.96069598e-02, -4.32518385e-02,  3.32738981e-02, -9.75530297e-02,\n",
       "        5.72897159e-02,  8.43529924e-05,  5.10835797e-02,  7.44594708e-02,\n",
       "        2.35825256e-02, -8.85953754e-02, -8.38736445e-03, -1.08040787e-01,\n",
       "        4.31005843e-02, -1.02180474e-01,  1.12388730e-02,  8.18957388e-02,\n",
       "       -1.02715902e-01,  2.31692512e-02, -3.79375108e-02,  1.49935642e-02,\n",
       "        5.29954173e-02, -6.69862106e-02, -9.48977172e-02,  4.35106568e-02,\n",
       "        7.21474513e-02,  7.16259331e-02,  5.94346039e-02,  1.04982048e-01,\n",
       "        5.32937013e-02,  6.27530739e-02, -8.72730088e-05, -1.09159432e-01,\n",
       "       -6.53196052e-02, -6.06951639e-02,  6.29493073e-02, -3.74092683e-02,\n",
       "        3.42771672e-02, -7.41814822e-02,  1.03959411e-01, -8.29958022e-02,\n",
       "       -1.33162867e-02, -8.15703273e-02,  8.69448110e-02,  2.86401901e-02,\n",
       "       -7.55922198e-02, -4.04241458e-02, -4.73050661e-02,  4.81954031e-02,\n",
       "        1.86152942e-02,  1.23893406e-04,  1.01683587e-01, -2.98078842e-02,\n",
       "        9.98263285e-02], dtype=float32)"
      ]
     },
     "execution_count": 43,
     "metadata": {},
     "output_type": "execute_result"
    }
   ],
   "source": [
    "model_w2v.wv[\"dam\"]"
   ]
  },
  {
   "cell_type": "code",
   "execution_count": null,
   "metadata": {
    "colab": {
     "base_uri": "https://localhost:8080/"
    },
    "id": "oDAzq4KLHtzh",
    "outputId": "2bc0152c-6ede-4551-98af-cfad7d212a7f"
   },
   "outputs": [
    {
     "data": {
      "text/plain": [
       "[('rend', 0.38457268476486206),\n",
       " ('$time$', 0.3792353868484497),\n",
       " ('non', 0.35636967420578003),\n",
       " ('prendr', 0.32253745198249817),\n",
       " ('ven', 0.282888263463974),\n",
       " ('plutôt', 0.2643870413303375),\n",
       " ('tard', 0.2590874433517456),\n",
       " ('va', 0.24365194141864777),\n",
       " ('nouveau', 0.23844270408153534),\n",
       " ('souhait', 0.23644672334194183)]"
      ]
     },
     "execution_count": 44,
     "metadata": {},
     "output_type": "execute_result"
    }
   ],
   "source": [
    "model_w2v.wv.most_similar('transfer')"
   ]
  },
  {
   "cell_type": "markdown",
   "metadata": {
    "id": "5tPek2swHtzh"
   },
   "source": [
    "- Generates the dictionary of words representation vectors"
   ]
  },
  {
   "cell_type": "code",
   "execution_count": null,
   "metadata": {
    "id": "nRljlE0BHtzh"
   },
   "outputs": [],
   "source": [
    "word2vec_dict = dict(zip(model_w2v.wv.index_to_key, model_w2v.wv))"
   ]
  },
  {
   "cell_type": "markdown",
   "metadata": {
    "id": "1u_ESvcVHtzi"
   },
   "source": [
    "## IV. Intention classification "
   ]
  },
  {
   "cell_type": "markdown",
   "metadata": {
    "id": "UM0WLLx4Htzi"
   },
   "source": [
    "This section aims to evaluate the performance of the different representations, discussed in the previous section,when used in combination with different classification models. "
   ]
  },
  {
   "cell_type": "markdown",
   "metadata": {
    "id": "7hIyD0hTHtzi"
   },
   "source": [
    "### a. Verbatim representation models\n",
    "\n",
    "- We define two functions that allow us to construct the representation of a verbatim from the vectors of the words that make it up. "
   ]
  },
  {
   "cell_type": "code",
   "execution_count": 63,
   "metadata": {
    "id": "xc_or7wSHtzi"
   },
   "outputs": [],
   "source": [
    "from sklearn.feature_extraction.text import TfidfVectorizer\n",
    "from collections import Counter, defaultdict\n",
    "class MeanEmbeddingVectorizer(object):\n",
    "    \"\"\"\n",
    "    Verbatim is representent by the average of words embeddings. \n",
    "    \"\"\"\n",
    "    def __init__(self, word2vec):\n",
    "        \"\"\"\n",
    "        word2vec: a dictionary where each word is mapped to its vector representation.\n",
    "        \"\"\"\n",
    "        self.word2vec = word2vec\n",
    "        # if a text is empty we should return a vector of zeros\n",
    "        # with the same dimensionality as all the other vectors\n",
    "        self.dim = len(next(iter(word2vec.values())))\n",
    "\n",
    "    def fit(self, X, y):\n",
    "        return self\n",
    "\n",
    "    def transform(self, X):\n",
    "        return np.array([\n",
    "            np.mean([self.word2vec[w] for w in words if w in self.word2vec]\n",
    "                    or [np.zeros(self.dim)], axis=0)\n",
    "            for words in X\n",
    "        ])\n",
    "\n",
    "class TfidfEmbeddingVectorizer(object):\n",
    "    \"\"\"\n",
    "    Verbatim is representent by the weighted (words frequency) average of words embeddings. \n",
    "    \"\"\"\n",
    "    def __init__(self, word2vec):\n",
    "        self.word2vec = word2vec\n",
    "        self.word2weight = None\n",
    "        self.dim = len(next(iter(word2vec.values())))\n",
    "\n",
    "    def fit(self, X, y):\n",
    "        tfidf = TfidfVectorizer(analyzer=lambda x: x)\n",
    "        tfidf.fit(X)\n",
    "        # if a word was never seen - it must be at least as infrequent\n",
    "        # as any of the known words - so the default idf is the max of \n",
    "        # known idf's\n",
    "        max_idf = max(tfidf.idf_)\n",
    "        self.word2weight = defaultdict(\n",
    "            lambda: max_idf,\n",
    "            [(w, tfidf.idf_[i]) for w, i in tfidf.vocabulary_.items()])\n",
    "\n",
    "        return self\n",
    "\n",
    "    def transform(self, X):\n",
    "        return np.array([\n",
    "                np.mean([self.word2vec[w] * self.word2weight[w]\n",
    "                         for w in words if w in self.word2vec] or\n",
    "                        [np.zeros(self.dim)], axis=0)\n",
    "                for words in X\n",
    "            ])"
   ]
  },
  {
   "cell_type": "markdown",
   "metadata": {
    "id": "SRBmDLkIHtzi"
   },
   "source": [
    "- Example: "
   ]
  },
  {
   "cell_type": "code",
   "execution_count": 64,
   "metadata": {
    "colab": {
     "base_uri": "https://localhost:8080/"
    },
    "id": "yjAiSwRdHtzi",
    "outputId": "f7b19ae8-457e-4900-9f24-f77fcfa5860d"
   },
   "outputs": [
    {
     "ename": "NameError",
     "evalue": "name 'word2vec_dict' is not defined",
     "output_type": "error",
     "traceback": [
      "\u001b[1;31m---------------------------------------------------------------------------\u001b[0m",
      "\u001b[1;31mNameError\u001b[0m                                 Traceback (most recent call last)",
      "Cell \u001b[1;32mIn[64], line 1\u001b[0m\n\u001b[1;32m----> 1\u001b[0m model \u001b[38;5;241m=\u001b[39m TfidfEmbeddingVectorizer(\u001b[43mword2vec_dict\u001b[49m)\u001b[38;5;241m.\u001b[39mfit(df[\u001b[38;5;124m'\u001b[39m\u001b[38;5;124msegmented_verbatim_root\u001b[39m\u001b[38;5;124m'\u001b[39m], df[\u001b[38;5;124m'\u001b[39m\u001b[38;5;124mintent\u001b[39m\u001b[38;5;124m'\u001b[39m])\n\u001b[0;32m      2\u001b[0m verbatim_vector \u001b[38;5;241m=\u001b[39m model\u001b[38;5;241m.\u001b[39mtransform([\u001b[38;5;124m'\u001b[39m\u001b[38;5;124mallez\u001b[39m\u001b[38;5;124m'\u001b[39m, \u001b[38;5;124m'\u001b[39m\u001b[38;5;124mbon\u001b[39m\u001b[38;5;124m'\u001b[39m,  \u001b[38;5;124m'\u001b[39m\u001b[38;5;124m𝑡𝑖𝑚𝑒\u001b[39m\u001b[38;5;124m'\u001b[39m])\n\u001b[0;32m      3\u001b[0m verbatim_vector\u001b[38;5;241m.\u001b[39mshape\n",
      "\u001b[1;31mNameError\u001b[0m: name 'word2vec_dict' is not defined"
     ]
    }
   ],
   "source": [
    "model = TfidfEmbeddingVectorizer(word2vec_dict).fit(df['segmented_verbatim_root'], df['intent'])\n",
    "verbatim_vector = model.transform(['allez', 'bon',  '𝑡𝑖𝑚𝑒'])\n",
    "verbatim_vector.shape"
   ]
  },
  {
   "cell_type": "markdown",
   "metadata": {
    "id": "G9ZVpFk7Htzi"
   },
   "source": [
    "### b. Input matrices "
   ]
  },
  {
   "cell_type": "markdown",
   "metadata": {
    "id": "SzxKrpzUHtzi"
   },
   "source": [
    "We consider three different representation of the input verbatims:\n",
    "\n",
    "   - **input_bow:** each entry $c_{i,j}$ corresponds to the frequence of word i in verbatim j. \n",
    "   \n",
    "   \n",
    "   - **input_bow_tfidf** The frequency  $c_{i,j}$ is corrected by the present ratio of the word $i$ in the whole set of verbatims \n",
    "  \n",
    "\n",
    "   - **input_w2v_average:** A matrix $W$ of shape 800x337 where the representation of verbatim $j$ is computed as the average over all its words vectors. \n",
    "   \n",
    "   \n",
    "   - **input_w2v_tfidf:**  the representation of the verbatim is given as a weighted average of the words vectors (The correction is based on the fequency ratio of the word within the whole set of verbatims)\n"
   ]
  },
  {
   "cell_type": "code",
   "execution_count": 48,
   "metadata": {
    "id": "Wv_qt8D_Htzj"
   },
   "outputs": [],
   "source": [
    "raw_input_data = df['segmented_verbatim_root']\n",
    "target = df['intent']"
   ]
  },
  {
   "cell_type": "code",
   "execution_count": 50,
   "metadata": {
    "id": "g5vaoAIAHtzj"
   },
   "outputs": [],
   "source": [
    "input_bow_tfidf = TfidfVectorizer(analyzer=lambda x: x).fit(raw_input_data, target).transform(raw_input_data)\n",
    "input_w2v_average = MeanEmbeddingVectorizer(word2vec_dict).fit(raw_input_data, target).transform(raw_input_data)\n",
    "input_w2v_tfidf = TfidfEmbeddingVectorizer(word2vec_dict).fit(raw_input_data, target).transform(raw_input_data)\n",
    "\n",
    "# Aggregate all the matrix defined previously \n",
    "input_matrices = {\n",
    "    'bow' : count_matrix,\n",
    "    'bow_tfidf' : input_bow_tfidf,\n",
    "    'w2v_average' : input_w2v_average,\n",
    "    'w2v_tfidf' : input_w2v_tfidf,\n",
    "    }"
   ]
  },
  {
   "cell_type": "markdown",
   "metadata": {
    "id": "wu6bOl9rHtzj"
   },
   "source": [
    "### c. Classification models"
   ]
  },
  {
   "cell_type": "markdown",
   "metadata": {
    "id": "5DWACdOBHtzj"
   },
   "source": [
    "* During this section, we will list all machine learning algorithms for text classification and apply them to the different methods of feature representation.\n",
    "\n",
    "        - knn \n",
    "        - Naive Bayes:  Bernoulli & Multinomial \n",
    "        - SVC \n",
    "        - Extra-trees\n",
    "        - Random Forest\n",
    "        - Regression logistique\n",
    "     "
   ]
  },
  {
   "cell_type": "code",
   "execution_count": 52,
   "metadata": {
    "id": "lnT_kkjeHtzj"
   },
   "outputs": [],
   "source": [
    "from sklearn.ensemble import ExtraTreesClassifier\n",
    "from sklearn.naive_bayes import MultinomialNB\n",
    "from sklearn.naive_bayes import BernoulliNB\n",
    "from sklearn.svm import SVC\n",
    "from sklearn.ensemble import RandomForestClassifier\n",
    "from sklearn.linear_model import LogisticRegression\n",
    "from sklearn.neighbors import KNeighborsClassifier\n",
    "# dictionnay of models \n",
    "classification_models = {\n",
    "    \"extra trees\":  ExtraTreesClassifier(n_estimators=300),\n",
    "    \"multinomial nb\": MultinomialNB(),\n",
    "    \"bernoulli nb\": BernoulliNB(),\n",
    "    \"linear svc\": SVC(kernel=\"linear\"), \n",
    "    \"LR\" : LogisticRegression(),\n",
    "    \"Random forest\": RandomForestClassifier(),  \n",
    "    \"k-nn\": KNeighborsClassifier(n_neighbors=2)\n",
    "}"
   ]
  },
  {
   "cell_type": "markdown",
   "metadata": {
    "id": "dPoHOyuYHtzj"
   },
   "source": [
    "### d. Model Training \n",
    "\n",
    "In this section, we will train the pairs of  (input representation, classification model)"
   ]
  },
  {
   "cell_type": "markdown",
   "metadata": {
    "id": "30EyFIgAHtzj"
   },
   "source": [
    "- To compare the different methods, we would use the following <a href=https://towardsdatascience.com/multi-class-metrics-made-simple-part-ii-the-f1-score-ebe8b2c2ca1> multi-classification scores </a>:  \n",
    "\n",
    "\n",
    "    * Precision: What is the proportion of the positives that were correctly predicted by the model?\n",
    "$$Precision = \\frac{TP}{TP+FP}$$\n",
    "\n",
    "    * Recall: What proportion of predicted positives retrieved by the model are truly positives?\n",
    "$$Recall = \\frac{TP}{TP+FN}$$\n",
    "   \n",
    "    * F1-score: Ensure the trade-off between Recall and Precision.  \n",
    "$$F1\\_score = 2 \\times \\frac{precision \\times recall}{precision+recall}$$\n",
    "\n",
    "\n",
    "- Let's run the cross-valivation experiments that for each pair of (input, model) launches a training iteration using 80% of the data and compute the validation `F1-score` on the remaining 20%"
   ]
  },
  {
   "cell_type": "code",
   "execution_count": 59,
   "metadata": {
    "id": "_A9gKXFxHtzj"
   },
   "outputs": [],
   "source": [
    "from sklearn.metrics import accuracy_score\n",
    "from sklearn.model_selection import cross_val_score\n",
    "from sklearn.model_selection import StratifiedShuffleSplit\n",
    "np.random.seed(42)\n",
    "scores = {}\n",
    "for name, data in input_matrices.items(): \n",
    "    scores[name] = {}\n",
    "    for clf, model in classification_models.items():\n",
    "        try: \n",
    "            cross = cross_val_score(model, data, target, cv=5, scoring='accuracy')\n",
    "            scores[name][clf] = (cross.mean(), cross.std()*2)\n",
    "        except:\n",
    "            pass"
   ]
  },
  {
   "cell_type": "code",
   "execution_count": 55,
   "metadata": {
    "colab": {
     "base_uri": "https://localhost:8080/",
     "height": 206
    },
    "id": "jam-1FO1Htzj",
    "outputId": "699eff54-e047-4c1c-bdde-5ce1dee23d59",
    "scrolled": true
   },
   "outputs": [
    {
     "data": {
      "text/html": [
       "<div>\n",
       "<style scoped>\n",
       "    .dataframe tbody tr th:only-of-type {\n",
       "        vertical-align: middle;\n",
       "    }\n",
       "\n",
       "    .dataframe tbody tr th {\n",
       "        vertical-align: top;\n",
       "    }\n",
       "\n",
       "    .dataframe thead th {\n",
       "        text-align: right;\n",
       "    }\n",
       "</style>\n",
       "<table border=\"1\" class=\"dataframe\">\n",
       "  <thead>\n",
       "    <tr style=\"text-align: right;\">\n",
       "      <th></th>\n",
       "      <th>data_input</th>\n",
       "      <th>model</th>\n",
       "      <th>score</th>\n",
       "    </tr>\n",
       "  </thead>\n",
       "  <tbody>\n",
       "    <tr>\n",
       "      <th>0</th>\n",
       "      <td>bow</td>\n",
       "      <td>extra trees</td>\n",
       "      <td>0.91500</td>\n",
       "    </tr>\n",
       "    <tr>\n",
       "      <th>1</th>\n",
       "      <td>bow</td>\n",
       "      <td>multinomial nb</td>\n",
       "      <td>0.90125</td>\n",
       "    </tr>\n",
       "    <tr>\n",
       "      <th>2</th>\n",
       "      <td>bow</td>\n",
       "      <td>bernoulli nb</td>\n",
       "      <td>0.89750</td>\n",
       "    </tr>\n",
       "    <tr>\n",
       "      <th>3</th>\n",
       "      <td>bow</td>\n",
       "      <td>linear svc</td>\n",
       "      <td>0.90875</td>\n",
       "    </tr>\n",
       "    <tr>\n",
       "      <th>4</th>\n",
       "      <td>bow</td>\n",
       "      <td>LR</td>\n",
       "      <td>0.92000</td>\n",
       "    </tr>\n",
       "  </tbody>\n",
       "</table>\n",
       "</div>"
      ],
      "text/plain": [
       "  data_input           model    score\n",
       "0        bow     extra trees  0.91500\n",
       "1        bow  multinomial nb  0.90125\n",
       "2        bow    bernoulli nb  0.89750\n",
       "3        bow      linear svc  0.90875\n",
       "4        bow              LR  0.92000"
      ]
     },
     "execution_count": 55,
     "metadata": {},
     "output_type": "execute_result"
    }
   ],
   "source": [
    "l = []\n",
    "for k in scores.keys(): \n",
    "    data_scores = pd.DataFrame({'data_input': k ,'model' : p , 'score': v[0]} for p, v in scores[k].items())\n",
    "    l.append(data_scores)\n",
    "scores_frame = pd.concat(l)\n",
    "scores_frame.head()"
   ]
  },
  {
   "cell_type": "markdown",
   "metadata": {
    "id": "O8Zvw-3jHtzk"
   },
   "source": [
    "- We can visualize the scores of all tested pairs to compare the methods:"
   ]
  },
  {
   "cell_type": "code",
   "execution_count": 56,
   "metadata": {
    "colab": {
     "base_uri": "https://localhost:8080/",
     "height": 589
    },
    "id": "lZeIc7BHHtzk",
    "outputId": "31673c93-4b15-4073-fa33-e5921394a5f6"
   },
   "outputs": [
    {
     "data": {
      "image/png": "[encoded data removed]",
      "text/plain": [
       "<Figure size 1080x576 with 1 Axes>"
      ]
     },
     "metadata": {
      "needs_background": "light"
     },
     "output_type": "display_data"
    }
   ],
   "source": [
    "import matplotlib.pyplot as plt\n",
    "plt.figure(figsize=(15,8))\n",
    "sns.set_context(\"notebook\", font_scale=1.1)\n",
    "sns.set_style(\"ticks\")\n",
    "sns.stripplot('data_input', 'score', \n",
    "           data=scores_frame, \n",
    "           hue=\"model\" )\n",
    "plt.xticks(rotation='vertical')\n",
    "plt.title('Benchmark of classification and vectorisation models')\n",
    "plt.xlabel('models')\n",
    "plt.ylabel('cross-validated F1-score')\n",
    "plt.legend(loc='lower left')\n",
    "plt.grid()"
   ]
  },
  {
   "cell_type": "code",
   "execution_count": null,
   "metadata": {},
   "outputs": [],
   "source": []
  },
  {
   "cell_type": "markdown",
   "metadata": {
    "id": "W32OiOeWHtzk"
   },
   "source": [
    "**Conclusions:** \n",
    "- Best performance score is achieved for:  **LR + bow**.\n",
    "\n",
    "- Machine learning methods fail to detect the semantic relationship contained in deep vectors constructed from Glove or word2vec models. \n"
   ]
  },
  {
   "cell_type": "markdown",
   "metadata": {
    "id": "X7WN-oHaHtzk"
   },
   "source": [
    "### e. Learning curve:  Training evolution "
   ]
  },
  {
   "cell_type": "markdown",
   "metadata": {
    "id": "ii0VbS9QHtzk"
   },
   "source": [
    "- Function to compute Precision and F1-score at each iteration"
   ]
  },
  {
   "cell_type": "code",
   "execution_count": 57,
   "metadata": {
    "id": "PpouvwOAHtzk"
   },
   "outputs": [],
   "source": [
    "from sklearn.metrics import f1_score, precision_score\n",
    "def train_benchmark_F1(model, X, y, n):\n",
    "    test_size = 1 - (n / float(len(y)))\n",
    "    scores = []\n",
    "    for train, test in StratifiedShuffleSplit(n_splits=5, test_size=test_size).split(X, y):\n",
    "        X_train, X_test = X[train], X[test]\n",
    "        y_train, y_test = y[train], y[test]\n",
    "        scores.append(f1_score(model.fit(X_train, y_train).predict(X_test), y_test, average='weighted'))\n",
    "    return np.mean(scores), np.std(scores) * 2\n",
    "\n",
    "def train_benchmark_precision(model, X, y, n):\n",
    "    test_size = 1 - (n / float(len(y)))\n",
    "    scores = []\n",
    "    for train, test in StratifiedShuffleSplit(n_splits=5, test_size=test_size).split(X, y):\n",
    "        X_train, X_test = X[train], X[test]\n",
    "        y_train, y_test = y[train], y[test]\n",
    "        scores.append(precision_score(model.fit(X_train, y_train).predict(X_test), y_test, average='weighted'))\n",
    "    return np.mean(scores), np.std(scores) * 2"
   ]
  },
  {
   "cell_type": "markdown",
   "metadata": {
    "id": "GLtC6ISPHtzk"
   },
   "source": [
    "- Gather the scores with different training sizes: 10, 40, 160, 320, 640, 750 and 800: "
   ]
  },
  {
   "cell_type": "code",
   "execution_count": 58,
   "metadata": {
    "id": "meviPwcWHtzk"
   },
   "outputs": [],
   "source": [
    "train_sizes = [10, 40, 160, 320, 640, 750, 800]\n",
    "table = []\n",
    "for name, data in input_matrices.items(): \n",
    "    for clf, model in classification_models.items():\n",
    "        #print('getting score for the classifier:', clf,'and the data input:', name)\n",
    "        for n in train_sizes:\n",
    "            try:\n",
    "                table.append({'model': clf, \n",
    "                              'precision': train_benchmark_F1(model, data, target, n),\n",
    "                              'F1-score' : train_benchmark_precision(model, data, target, n),\n",
    "                              'train_size': n,\n",
    "                              'data_input': name,\n",
    "                             })\n",
    "            except:\n",
    "                pass\n",
    "            \n",
    "results  = pd.DataFrame(table)"
   ]
  },
  {
   "cell_type": "markdown",
   "metadata": {
    "id": "c959hmJxQUOM"
   },
   "source": [
    "Let's vizualize the learning curve: "
   ]
  },
  {
   "cell_type": "code",
   "execution_count": 56,
   "metadata": {
    "colab": {
     "base_uri": "https://localhost:8080/",
     "height": 434
    },
    "id": "1zBi3chuHtzl",
    "outputId": "bcacb312-7b4b-4bc9-8fd6-d867a351bfd7"
   },
   "outputs": [
    {
     "name": "stderr",
     "output_type": "stream",
     "text": [
      "2024-05-20 16:50:57,811 : INFO : NumExpr defaulting to 8 threads.\n"
     ]
    },
    {
     "data": {
      "text/plain": [
       "[Text(0, 0.5, 'Precision score')]"
      ]
     },
     "execution_count": 56,
     "metadata": {},
     "output_type": "execute_result"
    },
    {
     "data": {
      "image/png": "[encoded data removed]",
      "text/plain": [
       "<Figure size 1080x432 with 1 Axes>"
      ]
     },
     "metadata": {
      "needs_background": "light"
     },
     "output_type": "display_data"
    }
   ],
   "source": [
    "import seaborn as sns \n",
    "from matplotlib import pyplot as plt\n",
    "%matplotlib inline \n",
    "\n",
    "# prepare columns to visualize \n",
    "results['prec'] = results['precision'].map(lambda x: x[0])\n",
    "results['std_p'] = results['precision'].map(lambda x: x[1])\n",
    "results['f1'] = results['F1-score'].map(lambda x: x[0])\n",
    "results['std_f'] = results['F1-score'].map(lambda x: x[1])\n",
    "results.drop('F1-score', axis=1, inplace=True)\n",
    "results.drop('precision', axis=1, inplace=True)\n",
    "results['concat_model'] = results['model']+'_'+results['data_input']\n",
    "\n",
    "# Define the vizualization plot\n",
    "plt.figure(figsize=(15, 6))\n",
    "fig = sns.pointplot(x='train_size', y='prec', hue='concat_model', \n",
    "                    data=results[results.concat_model.map(lambda x : x in [ 'LR_bow', \n",
    "                                                                            'LR_bow_tfidf',\n",
    "                                                                            'LR_w2v_average',\n",
    "                                                                            'LR_w2v_tfidf'\n",
    "                                                                          ])])\n",
    "sns.set_context(\"notebook\", font_scale=1.5)\n",
    "fig.set(ylabel=\"accuracy\")\n",
    "fig.set(xlabel=\"Number of training examples\")\n",
    "fig.set(title=\"Classification benchmark\")\n",
    "fig.set(ylabel=\"Precision score\")"
   ]
  },
  {
   "cell_type": "markdown",
   "metadata": {
    "id": "VIDV2h-PHtzl"
   },
   "source": [
    "This is the end of the use-case. You successfully\n",
    "\n",
    "- Performed text cleaning with regex and nltk\n",
    "- Represent words with different techniques: frequency-based and prediction model-based\n",
    "- Trained various machine learning algorithm for text classification with scikit-learn\n",
    "- Visualized prediction scores with seaborn and matplotlib. "
   ]
  },
  {
   "cell_type": "code",
   "execution_count": null,
   "metadata": {},
   "outputs": [],
   "source": []
  }
 ],
 "metadata": {
  "anaconda-cloud": {},
  "colab": {
   "collapsed_sections": [],
   "name": "Buisiness_DS_text_mining.ipynb",
   "provenance": []
  },
  "kernelspec": {
   "display_name": "ml_env",
   "language": "python",
   "name": "python3"
  },
  "language_info": {
   "codemirror_mode": {
    "name": "ipython",
    "version": 3
   },
   "file_extension": ".py",
   "mimetype": "text/x-python",
   "name": "python",
   "nbconvert_exporter": "python",
   "pygments_lexer": "ipython3",
   "version": "3.11.5"
  }
 },
 "nbformat": 4,
 "nbformat_minor": 1
}
